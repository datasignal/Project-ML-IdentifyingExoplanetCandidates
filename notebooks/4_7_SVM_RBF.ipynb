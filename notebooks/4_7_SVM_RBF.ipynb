{
 "cells": [
  {
   "cell_type": "code",
   "execution_count": 1,
   "metadata": {},
   "outputs": [],
   "source": [
    "import numpy as np\n",
    "import pandas as pd\n",
    "from sklearn.model_selection import ParameterGrid, GridSearchCV\n",
    "from sklearn.pipeline import Pipeline\n",
    "from sklearn.preprocessing import StandardScaler\n",
    "from sklearn.decomposition import PCA\n",
    "from sklearn.svm import SVC\n",
    "from sklearn.metrics import make_scorer, precision_score, recall_score, accuracy_score, f1_score, average_precision_score, roc_auc_score, confusion_matrix\n",
    "\n",
    "import matplotlib.pyplot as plt\n",
    "%matplotlib inline"
   ]
  },
  {
   "cell_type": "code",
   "execution_count": 2,
   "metadata": {},
   "outputs": [],
   "source": [
    "# CONSTANTS\n",
    "DATA_PATH   = '../resources/model_datasets.npz'\n",
    "GRID_PATH  = '../resources/model_results/svm_rbf_grid.npy'\n",
    "MODEL_PATH  = '../resources/best_models/svm_rbf.npy'\n",
    "TRAIN_MODEL = False"
   ]
  },
  {
   "cell_type": "markdown",
   "metadata": {},
   "source": [
    "# Support Vector Machine With RBF Kernel Model"
   ]
  },
  {
   "cell_type": "markdown",
   "metadata": {},
   "source": [
    "### Load the data"
   ]
  },
  {
   "cell_type": "code",
   "execution_count": 3,
   "metadata": {},
   "outputs": [
    {
     "name": "stdout",
     "output_type": "stream",
     "text": [
      "Training set shape: (3000, 21) (3000,)\n",
      "Test set shape: (898, 21) (898,)\n"
     ]
    },
    {
     "data": {
      "text/html": [
       "<div>\n",
       "<style scoped>\n",
       "    .dataframe tbody tr th:only-of-type {\n",
       "        vertical-align: middle;\n",
       "    }\n",
       "\n",
       "    .dataframe tbody tr th {\n",
       "        vertical-align: top;\n",
       "    }\n",
       "\n",
       "    .dataframe thead th {\n",
       "        text-align: right;\n",
       "    }\n",
       "</style>\n",
       "<table border=\"1\" class=\"dataframe\">\n",
       "  <thead>\n",
       "    <tr style=\"text-align: right;\">\n",
       "      <th></th>\n",
       "      <th>count</th>\n",
       "      <th>normalized</th>\n",
       "    </tr>\n",
       "  </thead>\n",
       "  <tbody>\n",
       "    <tr>\n",
       "      <th>0</th>\n",
       "      <td>1761</td>\n",
       "      <td>0.587</td>\n",
       "    </tr>\n",
       "    <tr>\n",
       "      <th>1</th>\n",
       "      <td>1239</td>\n",
       "      <td>0.413</td>\n",
       "    </tr>\n",
       "  </tbody>\n",
       "</table>\n",
       "</div>"
      ],
      "text/plain": [
       "   count  normalized\n",
       "0   1761       0.587\n",
       "1   1239       0.413"
      ]
     },
     "execution_count": 3,
     "metadata": {},
     "output_type": "execute_result"
    }
   ],
   "source": [
    "# Extract the arrays from the NPZ file\n",
    "with np.load(DATA_PATH, allow_pickle=True) as npz: \n",
    "    X_train = npz['X_train'] \n",
    "    X_test = npz['X_test']\n",
    "    y_train = npz['y_train']\n",
    "    y_test = npz['y_test']\n",
    "    Ids_train = npz['Ids_train']\n",
    "    Ids_test = npz['Ids_test']\n",
    "    candidates = npz['candidates']\n",
    "    candidate_ids = npz['candidate_ids']\n",
    "    feature_names = npz['feature_names']\n",
    "    label_names = npz['label_names']\n",
    "    \n",
    "# Check shapes\n",
    "print('Training set shape:', X_train.shape, y_train.shape)\n",
    "print('Test set shape:', X_test.shape, y_test.shape)\n",
    "\n",
    "# Label counts\n",
    "pd.DataFrame({\n",
    "    'count': pd.value_counts(y_train), \n",
    "    'normalized': pd.value_counts(y_train, normalize=True)}\n",
    ")"
   ]
  },
  {
   "cell_type": "markdown",
   "metadata": {},
   "source": [
    "### Hyperparameters tuning"
   ]
  },
  {
   "cell_type": "markdown",
   "metadata": {},
   "source": [
    "The `SVC` classifier allows to use different kernels. RBK kernel add a new gamma hyperparameter to tune with grid search. The gamma parameter controls how much the points affect each other. Larger is the gamma value, closer the data points should be to produce significant kernel values. The gamma parameters can be seen as the inverse of the radius of influence of samples selected by the model as support vectors.\n",
    "\n",
    "The following hyperparameters will be tuned by grid search and 5-folds cross-validation:\n",
    "\n",
    "* PCA number of components\n",
    "* Penalty parameter C of the error term\n",
    "* RBF kernel coefficient $\\gamma$\n",
    " \n",
    "Note that because the imbalance of our target variable, we apply weights inversely proportional to class frequencies: `class_weight='balanced'`."
   ]
  },
  {
   "cell_type": "code",
   "execution_count": 4,
   "metadata": {
    "scrolled": true
   },
   "outputs": [],
   "source": [
    "# Hyperparameters\n",
    "pca__n_components = [9, 12, 15, 18, None]\n",
    "svc__C = np.logspace(-2, 4, 7)\n",
    "svc__gamma = np.logspace(-2, 0, 10)\n",
    "\n",
    "\n",
    "# Train the model if required\n",
    "if TRAIN_MODEL:\n",
    "    \n",
    "    # Pipeline estimator\n",
    "    pipe = Pipeline([\n",
    "        ('scaler', StandardScaler()),\n",
    "        ('pca', PCA(random_state=0)),\n",
    "        ('svc', SVC(kernel='rbf', class_weight='balanced', random_state=0))\n",
    "    ])\n",
    "\n",
    "    # Grid parameters\n",
    "    grid = ParameterGrid({\n",
    "        'pca__n_components': pca__n_components,\n",
    "        'svc__C': svc__C,\n",
    "        'svc__gamma': svc__gamma\n",
    "    })\n",
    "    \n",
    "    # Scorers\n",
    "    average_precision_scorer = make_scorer(average_precision_score, \n",
    "                                           greater_is_better=True, \n",
    "                                           needs_proba=False,\n",
    "                                           needs_threshold=True)\n",
    "    \n",
    "    roc_auc_scorer = make_scorer(roc_auc_score, \n",
    "                                 greater_is_better=True, \n",
    "                                 needs_threshold=True)\n",
    "    \n",
    "    # Grid Search with cross-validation\n",
    "    grid_cv = GridSearchCV(\n",
    "        pipe,\n",
    "        grid.param_grid,\n",
    "        cv=5,  # 5 folds => 2400 training, 600 validation\n",
    "        scoring={\n",
    "            'accuracy': 'accuracy',\n",
    "            'precision': 'precision',\n",
    "            'recall': 'recall',\n",
    "            'roc_auc': roc_auc_scorer,\n",
    "            'average_precision': average_precision_scorer\n",
    "        },\n",
    "        refit=False,\n",
    "        verbose=3\n",
    "    )\n",
    "\n",
    "    # Fit the model\n",
    "    grid_cv.fit(X_train, y_train)\n",
    "    \n",
    "    # Save results in a numpy file\n",
    "    np.save(GRID_PATH, grid_cv)\n",
    "else:\n",
    "    # Load the grid search results from file\n",
    "    grid_cv = np.load(GRID_PATH, allow_pickle=True).item(0)"
   ]
  },
  {
   "cell_type": "markdown",
   "metadata": {},
   "source": [
    "### Model selection"
   ]
  },
  {
   "cell_type": "markdown",
   "metadata": {},
   "source": [
    "We can extract the results and build a dataframe to analyze them:"
   ]
  },
  {
   "cell_type": "code",
   "execution_count": 5,
   "metadata": {
    "scrolled": true
   },
   "outputs": [
    {
     "name": "stdout",
     "output_type": "stream",
     "text": [
      "Number of models: 350\n"
     ]
    },
    {
     "data": {
      "text/html": [
       "<div>\n",
       "<style scoped>\n",
       "    .dataframe tbody tr th:only-of-type {\n",
       "        vertical-align: middle;\n",
       "    }\n",
       "\n",
       "    .dataframe tbody tr th {\n",
       "        vertical-align: top;\n",
       "    }\n",
       "\n",
       "    .dataframe thead th {\n",
       "        text-align: right;\n",
       "    }\n",
       "</style>\n",
       "<table border=\"1\" class=\"dataframe\">\n",
       "  <thead>\n",
       "    <tr style=\"text-align: right;\">\n",
       "      <th></th>\n",
       "      <th>n_components</th>\n",
       "      <th>C</th>\n",
       "      <th>gamma</th>\n",
       "      <th>mean_train_score</th>\n",
       "      <th>mean_valid_score</th>\n",
       "      <th>delta_score</th>\n",
       "      <th>std_train_score</th>\n",
       "      <th>std_valid_score</th>\n",
       "    </tr>\n",
       "  </thead>\n",
       "  <tbody>\n",
       "    <tr>\n",
       "      <th>0</th>\n",
       "      <td>9</td>\n",
       "      <td>0.01</td>\n",
       "      <td>0.01</td>\n",
       "      <td>0.588954</td>\n",
       "      <td>0.587380</td>\n",
       "      <td>0.001574</td>\n",
       "      <td>0.004555</td>\n",
       "      <td>0.006381</td>\n",
       "    </tr>\n",
       "    <tr>\n",
       "      <th>1</th>\n",
       "      <td>9</td>\n",
       "      <td>0.01</td>\n",
       "      <td>0.016681</td>\n",
       "      <td>0.657440</td>\n",
       "      <td>0.657417</td>\n",
       "      <td>0.000023</td>\n",
       "      <td>0.004118</td>\n",
       "      <td>0.018357</td>\n",
       "    </tr>\n",
       "    <tr>\n",
       "      <th>2</th>\n",
       "      <td>9</td>\n",
       "      <td>0.01</td>\n",
       "      <td>0.0278256</td>\n",
       "      <td>0.690347</td>\n",
       "      <td>0.690619</td>\n",
       "      <td>0.000272</td>\n",
       "      <td>0.002923</td>\n",
       "      <td>0.013992</td>\n",
       "    </tr>\n",
       "    <tr>\n",
       "      <th>3</th>\n",
       "      <td>9</td>\n",
       "      <td>0.01</td>\n",
       "      <td>0.0464159</td>\n",
       "      <td>0.730148</td>\n",
       "      <td>0.728287</td>\n",
       "      <td>0.001862</td>\n",
       "      <td>0.004239</td>\n",
       "      <td>0.018986</td>\n",
       "    </tr>\n",
       "    <tr>\n",
       "      <th>4</th>\n",
       "      <td>9</td>\n",
       "      <td>0.01</td>\n",
       "      <td>0.0774264</td>\n",
       "      <td>0.763635</td>\n",
       "      <td>0.761704</td>\n",
       "      <td>0.001931</td>\n",
       "      <td>0.004850</td>\n",
       "      <td>0.019104</td>\n",
       "    </tr>\n",
       "  </tbody>\n",
       "</table>\n",
       "</div>"
      ],
      "text/plain": [
       "   n_components     C      gamma  mean_train_score  mean_valid_score  \\\n",
       "0             9  0.01       0.01          0.588954          0.587380   \n",
       "1             9  0.01   0.016681          0.657440          0.657417   \n",
       "2             9  0.01  0.0278256          0.690347          0.690619   \n",
       "3             9  0.01  0.0464159          0.730148          0.728287   \n",
       "4             9  0.01  0.0774264          0.763635          0.761704   \n",
       "\n",
       "   delta_score  std_train_score  std_valid_score  \n",
       "0     0.001574         0.004555         0.006381  \n",
       "1     0.000023         0.004118         0.018357  \n",
       "2     0.000272         0.002923         0.013992  \n",
       "3     0.001862         0.004239         0.018986  \n",
       "4     0.001931         0.004850         0.019104  "
      ]
     },
     "execution_count": 5,
     "metadata": {},
     "output_type": "execute_result"
    }
   ],
   "source": [
    "# We want to tune our models according to the precision metric\n",
    "score = 'precision'\n",
    "\n",
    "# Generic variable names to easely change the metric\n",
    "r = grid_cv.cv_results_\n",
    "mean_train_score = 'mean_train_' + score\n",
    "mean_valid_score = 'mean_test_' + score\n",
    "std_train_score  = 'std_train_' + score\n",
    "std_valid_score  = 'std_test_' + score\n",
    "\n",
    "# Create a DataFrame to analyze the grid search results\n",
    "df = pd.DataFrame.from_items([\n",
    "    ('n_components', r['param_pca__n_components']),\n",
    "    ('C', r['param_svc__C']),\n",
    "    ('gamma', r['param_svc__gamma']),\n",
    "    ('mean_train_score', r[mean_train_score]),\n",
    "    ('mean_valid_score', r[mean_valid_score]),\n",
    "    ('delta_score', np.abs(r[mean_train_score] - r[mean_valid_score])),\n",
    "    ('std_train_score', r[std_train_score]),\n",
    "    ('std_valid_score', r[std_valid_score])\n",
    "])\n",
    "\n",
    "# Replace the PCA None value by the number of features\n",
    "df.n_components.fillna(X_train.shape[1], inplace=True)\n",
    "\n",
    "print('Number of models:', df.shape[0])\n",
    "df.head(5)"
   ]
  },
  {
   "cell_type": "markdown",
   "metadata": {},
   "source": [
    "The following scatter plots will give us better insight about the results :\n",
    "\n",
    "* mean training score VS validation standard deviation\n",
    "* mean validation score VS validation standard deviation\n",
    "* delta mean scores VS validation standard deviation"
   ]
  },
  {
   "cell_type": "code",
   "execution_count": 6,
   "metadata": {},
   "outputs": [
    {
     "data": {
      "image/png": "[encoded data removed]",
      "text/plain": [
       "<matplotlib.figure.Figure at 0x11b15bba8>"
      ]
     },
     "metadata": {
      "needs_background": "light"
     },
     "output_type": "display_data"
    }
   ],
   "source": [
    "# Filters\n",
    "c_filter = df.C > 0.5\n",
    "gamma_filter = df.gamma > 0.1\n",
    "\n",
    "# Plot vars\n",
    "legend_loc = ['lower right', 'lower right', 'upper right']\n",
    "ylabel = ['mean training score', 'mean validation score', 'delta score']\n",
    "ylims = [(0.45, 1), (0.45, 1), (0, 0.22)]\n",
    "\n",
    "i = 0\n",
    "fig, ax = plt.subplots(nrows=1, ncols=3, figsize=(20, 10))\n",
    "for var in ['mean_train_score', 'mean_valid_score', 'delta_score']:\n",
    "    ax[i].scatter(df.std_valid_score[c_filter & gamma_filter], df.loc[c_filter & gamma_filter, var], color='green', label='C > 0.5, Gamma > 0.1', s=2)\n",
    "    ax[i].scatter(df.std_valid_score[c_filter & ~gamma_filter], df.loc[c_filter & ~gamma_filter, var], color='#00FF00', label='C > 0.5, Gamma <= 0.1', s=2)\n",
    "    ax[i].scatter(df.std_valid_score[~c_filter & gamma_filter], df.loc[~c_filter & gamma_filter, var], color='red', label='C <= 0.5, Gamma > 0.1', s=2)\n",
    "    ax[i].scatter(df.std_valid_score[~c_filter & ~gamma_filter], df.loc[~c_filter & ~gamma_filter, var], color='orange', label='C <= 0.5, Gamma <= 0.1', s=2)\n",
    "\n",
    "    ax[i].grid(axis='both')\n",
    "    ax[i].set(xlabel='validation standard deviation', ylabel=ylabel[i], xlim=(0, 0.05), ylim=ylims[i])\n",
    "    ax[i].legend(loc=legend_loc[i])\n",
    "    i += 1\n",
    "\n",
    "plt.show()"
   ]
  },
  {
   "cell_type": "markdown",
   "metadata": {},
   "source": [
    "Models with high C values quickly overfit the data, only small gamma value allow to prevent it. The best models, the red data points, have a C value below 0.5 and a gamma above 0.1.\n",
    "\n",
    "Given the results, our wish would be to find a model satisfying the following conditions:\n",
    "\n",
    "* validation standard deviation <= 1%\n",
    "* delta mean precision score <= 2.5%\n",
    "* validation precision score >= 90%"
   ]
  },
  {
   "cell_type": "code",
   "execution_count": 7,
   "metadata": {
    "scrolled": false
   },
   "outputs": [
    {
     "data": {
      "text/html": [
       "<div>\n",
       "<style scoped>\n",
       "    .dataframe tbody tr th:only-of-type {\n",
       "        vertical-align: middle;\n",
       "    }\n",
       "\n",
       "    .dataframe tbody tr th {\n",
       "        vertical-align: top;\n",
       "    }\n",
       "\n",
       "    .dataframe thead th {\n",
       "        text-align: right;\n",
       "    }\n",
       "</style>\n",
       "<table border=\"1\" class=\"dataframe\">\n",
       "  <thead>\n",
       "    <tr style=\"text-align: right;\">\n",
       "      <th></th>\n",
       "      <th>n_components</th>\n",
       "      <th>C</th>\n",
       "      <th>gamma</th>\n",
       "      <th>mean_train_score</th>\n",
       "      <th>mean_valid_score</th>\n",
       "      <th>delta_score</th>\n",
       "      <th>std_train_score</th>\n",
       "      <th>std_valid_score</th>\n",
       "    </tr>\n",
       "  </thead>\n",
       "  <tbody>\n",
       "    <tr>\n",
       "      <th>217</th>\n",
       "      <td>18</td>\n",
       "      <td>0.01</td>\n",
       "      <td>0.359381</td>\n",
       "      <td>0.914686</td>\n",
       "      <td>0.911269</td>\n",
       "      <td>0.003417</td>\n",
       "      <td>0.004277</td>\n",
       "      <td>0.009214</td>\n",
       "    </tr>\n",
       "    <tr>\n",
       "      <th>159</th>\n",
       "      <td>15</td>\n",
       "      <td>0.1</td>\n",
       "      <td>1</td>\n",
       "      <td>0.928126</td>\n",
       "      <td>0.910336</td>\n",
       "      <td>0.017790</td>\n",
       "      <td>0.002050</td>\n",
       "      <td>0.009771</td>\n",
       "    </tr>\n",
       "  </tbody>\n",
       "</table>\n",
       "</div>"
      ],
      "text/plain": [
       "     n_components     C     gamma  mean_train_score  mean_valid_score  \\\n",
       "217            18  0.01  0.359381          0.914686          0.911269   \n",
       "159            15   0.1         1          0.928126          0.910336   \n",
       "\n",
       "     delta_score  std_train_score  std_valid_score  \n",
       "217     0.003417         0.004277         0.009214  \n",
       "159     0.017790         0.002050         0.009771  "
      ]
     },
     "execution_count": 7,
     "metadata": {},
     "output_type": "execute_result"
    }
   ],
   "source": [
    "# Model selection according to some wished criteria\n",
    "f_std_valid = (df.std_valid_score <= 0.01)\n",
    "f_delta_score = (df.delta_score <= 0.025)\n",
    "f_valid_score = (df.mean_valid_score >= 0.9)\n",
    "\n",
    "filter =  f_std_valid & f_delta_score & f_valid_score\n",
    "best_models = df[filter].sort_values(by='delta_score', ascending=True)\n",
    "best_models"
   ]
  },
  {
   "cell_type": "markdown",
   "metadata": {},
   "source": [
    "The first model appears to be a good choice, it has the best validation standard deviation and mean validation precision score."
   ]
  },
  {
   "cell_type": "markdown",
   "metadata": {},
   "source": [
    "### Best model evaluation on the test set"
   ]
  },
  {
   "cell_type": "markdown",
   "metadata": {},
   "source": [
    "We must now to train these model on the full training set and evaluate it on the test set :"
   ]
  },
  {
   "cell_type": "code",
   "execution_count": 8,
   "metadata": {},
   "outputs": [],
   "source": [
    "# Best model hyperparameters\n",
    "pca__n_components = best_models.n_components.values[0]\n",
    "svc__C =  best_models.C.values[0]\n",
    "svc__gamma = best_models.gamma.values[0]\n",
    "\n",
    "if TRAIN_MODEL:\n",
    "    # Train the best model on the full training set\n",
    "    pipe = Pipeline([\n",
    "        ('scaler', StandardScaler()),\n",
    "        ('pca', PCA(n_components=pca__n_components, random_state=0)),\n",
    "        ('svc', SVC(C=svc__C, gamma=svc__gamma, kernel='rbf', class_weight='balanced', random_state=0))\n",
    "    ])\n",
    "    pipe.fit(X_train, y_train)\n",
    "    \n",
    "    # Save the model in a numpy file\n",
    "    np.save(MODEL_PATH, pipe)\n",
    "else:\n",
    "    # Load the model from file\n",
    "    pipe = np.load(MODEL_PATH, allow_pickle=True).item(0)"
   ]
  },
  {
   "cell_type": "code",
   "execution_count": 9,
   "metadata": {},
   "outputs": [
    {
     "name": "stdout",
     "output_type": "stream",
     "text": [
      "Evaluation of the best model on the test set:\n",
      "---------------------------------------------\n",
      "SVM with RBF Kernel Precision (training set):  0.906\n",
      "SVM with RBF Kernel Precision (test set) :  0.909\n",
      "\n",
      "\n",
      "Confusion Matrix (test set):\n",
      "----------------------------\n",
      "\n",
      "                Actual N\tActual P\n",
      "Predicted N\t510 (TN)\t201 (FN)\n",
      "Predicted P\t 17 (FP)\t170 (TP)\n",
      "\n",
      "\n",
      "Metric Summary (test set):\n",
      "-------------------------- \n",
      "Precision :  0.909\n",
      "Recall    :  0.458\n",
      "Accuracy  :  0.757\n",
      "F1 Score  :  0.609\n"
     ]
    }
   ],
   "source": [
    "# Get the predictions \n",
    "y_pred_tr = pipe.predict(X_train)\n",
    "y_pred_te = pipe.predict(X_test)\n",
    "\n",
    "# Get the contingency matrix\n",
    "tn, fp, fn, tp = confusion_matrix(y_test, y_pred_te).ravel()\n",
    "\n",
    "# Print the results\n",
    "print('Evaluation of the best model on the test set:')\n",
    "print('---------------------------------------------')\n",
    "print('SVM with RBF Kernel Precision (training set): ', np.round(precision_score(y_train, y_pred_tr), 3))\n",
    "print('SVM with RBF Kernel Precision (test set) : ', np.round(precision_score(y_test, y_pred_te), 3))\n",
    "print('\\n')\n",
    "print('Confusion Matrix (test set):')\n",
    "print('----------------------------\\n')\n",
    "print('                Actual N\\tActual P\\nPredicted N\\t{:3d} (TN)\\t{:3d} (FN)\\nPredicted P\\t{:3d} (FP)\\t{:3d} (TP)'.format(tn, fn, fp, tp))\n",
    "print('\\n')\n",
    "print('Metric Summary (test set):')\n",
    "print('-------------------------- ')\n",
    "print('Precision : ', np.round(precision_score(y_test, y_pred_te), 3))\n",
    "print('Recall    : ', np.round(recall_score(y_test, y_pred_te), 3))\n",
    "print('Accuracy  : ', np.round(accuracy_score(y_test, y_pred_te), 3))\n",
    "print('F1 Score  : ', np.round(f1_score(y_test, y_pred_te), 3))"
   ]
  },
  {
   "cell_type": "markdown",
   "metadata": {},
   "source": [
    "The training and test precision scores are the same, at 91%, indicating that our model don't overfit the data.\n",
    "This SVM with RBF kernel model is our best model in regards of the precision metric and it was quiet expected.\n",
    "\n",
    "However, it's interesting to note that its recall is very bad compared to the other models, meaning that it miss a huge proportion of the exoplanets. It is a more opiniated precision focused model. Comparison with our second best precision model, the random forest model, it improves the precision by 2% at the cost of recall 38% lower..."
   ]
  }
 ],
 "metadata": {
  "kernelspec": {
   "display_name": "Python 3",
   "language": "python",
   "name": "python3"
  },
  "language_info": {
   "codemirror_mode": {
    "name": "ipython",
    "version": 3
   },
   "file_extension": ".py",
   "mimetype": "text/x-python",
   "name": "python",
   "nbconvert_exporter": "python",
   "pygments_lexer": "ipython3",
   "version": "3.6.4"
  }
 },
 "nbformat": 4,
 "nbformat_minor": 4
}
