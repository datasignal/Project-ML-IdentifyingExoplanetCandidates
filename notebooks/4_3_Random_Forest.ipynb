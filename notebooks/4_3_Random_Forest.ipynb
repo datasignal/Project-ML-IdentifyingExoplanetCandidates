{
 "cells": [
  {
   "cell_type": "code",
   "execution_count": 2,
   "metadata": {},
   "outputs": [],
   "source": [
    "import numpy as np\n",
    "import pandas as pd\n",
    "from sklearn.model_selection import ParameterGrid, GridSearchCV\n",
    "from sklearn.pipeline import Pipeline\n",
    "from sklearn.preprocessing import StandardScaler\n",
    "from sklearn.decomposition import PCA\n",
    "from sklearn.ensemble import RandomForestClassifier\n",
    "from sklearn.metrics import make_scorer, precision_score, recall_score, accuracy_score, f1_score, average_precision_score, roc_auc_score, confusion_matrix\n",
    "\n",
    "import matplotlib.pyplot as plt\n",
    "%matplotlib inline"
   ]
  },
  {
   "cell_type": "code",
   "execution_count": 3,
   "metadata": {},
   "outputs": [],
   "source": [
    "# CONSTANTS\n",
    "DATA_PATH   = '../resources/model_datasets.npz'\n",
    "GRID_PATH  = '../resources/model_results/random_forest_grid.npy'\n",
    "MODEL_PATH  = '../resources/best_models/random_forest.npy'\n",
    "TRAIN_MODEL = False"
   ]
  },
  {
   "cell_type": "markdown",
   "metadata": {},
   "source": [
    "# Random Forest Model"
   ]
  },
  {
   "cell_type": "markdown",
   "metadata": {},
   "source": [
    "### Load the data"
   ]
  },
  {
   "cell_type": "code",
   "execution_count": 4,
   "metadata": {},
   "outputs": [
    {
     "name": "stdout",
     "output_type": "stream",
     "text": [
      "Training set shape: (3000, 21) (3000,)\n",
      "Test set shape: (898, 21) (898,)\n"
     ]
    },
    {
     "data": {
      "text/html": [
       "<div>\n",
       "<style scoped>\n",
       "    .dataframe tbody tr th:only-of-type {\n",
       "        vertical-align: middle;\n",
       "    }\n",
       "\n",
       "    .dataframe tbody tr th {\n",
       "        vertical-align: top;\n",
       "    }\n",
       "\n",
       "    .dataframe thead th {\n",
       "        text-align: right;\n",
       "    }\n",
       "</style>\n",
       "<table border=\"1\" class=\"dataframe\">\n",
       "  <thead>\n",
       "    <tr style=\"text-align: right;\">\n",
       "      <th></th>\n",
       "      <th>count</th>\n",
       "      <th>normalized</th>\n",
       "    </tr>\n",
       "  </thead>\n",
       "  <tbody>\n",
       "    <tr>\n",
       "      <th>0</th>\n",
       "      <td>1761</td>\n",
       "      <td>0.587</td>\n",
       "    </tr>\n",
       "    <tr>\n",
       "      <th>1</th>\n",
       "      <td>1239</td>\n",
       "      <td>0.413</td>\n",
       "    </tr>\n",
       "  </tbody>\n",
       "</table>\n",
       "</div>"
      ],
      "text/plain": [
       "   count  normalized\n",
       "0   1761       0.587\n",
       "1   1239       0.413"
      ]
     },
     "execution_count": 4,
     "metadata": {},
     "output_type": "execute_result"
    }
   ],
   "source": [
    "# Extract the arrays from the NPZ file\n",
    "with np.load(DATA_PATH, allow_pickle=True) as npz: \n",
    "    X_train = npz['X_train'] \n",
    "    X_test = npz['X_test']\n",
    "    y_train = npz['y_train']\n",
    "    y_test = npz['y_test']\n",
    "    Ids_train = npz['Ids_train']\n",
    "    Ids_test = npz['Ids_test']\n",
    "    candidates = npz['candidates']\n",
    "    candidate_ids = npz['candidate_ids']\n",
    "    feature_names = npz['feature_names']\n",
    "    label_names = npz['label_names']\n",
    "    \n",
    "# Check shapes\n",
    "print('Training set shape:', X_train.shape, y_train.shape)\n",
    "print('Test set shape:', X_test.shape, y_test.shape)\n",
    "\n",
    "# Label counts\n",
    "pd.DataFrame({\n",
    "    'count': pd.value_counts(y_train), \n",
    "    'normalized': pd.value_counts(y_train, normalize=True)}\n",
    ")"
   ]
  },
  {
   "cell_type": "markdown",
   "metadata": {},
   "source": [
    "### Hyperparameters tuning"
   ]
  },
  {
   "cell_type": "markdown",
   "metadata": {},
   "source": [
    "Decision trees tend to have low bias but high variance, the cause of their apparant lack of robustness. Random forest reduces this variance. It achieves it by bootstraping the training data and building one tree from each bootstraped dataset. Each tree will predict a class for a test data point and the most-frequent predicted class will be the one given to the point. As a result, random forest reduces the variance without bias trade-off but at the expense of the model interpretability. This approach is called bagging. Moreover, each tree split can be done only on a randomly drawn subset of the predictors. As a result, random forest build a forest of heterogeneous/decorralated trees; the strongest predictors are not always at the top of the trees.\n",
    "\n",
    "The following hyperparameters will be tuned by grid search and 5-folds cross-validation:\n",
    "\n",
    "* PCA number of components \n",
    "* Number of trees\n",
    "* Maximum depth of the trees\n",
    "* Number of features to consider when looking for the best split\n",
    "\n",
    "Note that because the imbalance of our target variable, we apply weights inversely proportional to class frequencies: `class_weight='balanced'`."
   ]
  },
  {
   "cell_type": "code",
   "execution_count": 5,
   "metadata": {
    "scrolled": true
   },
   "outputs": [],
   "source": [
    "# Hyperparameters\n",
    "pca__n_components = [9, 12, 15, 18, None]\n",
    "rf__n_estimators = [10, 25, 50, 100, 250, 500, 1000]\n",
    "rf__max_depth = [3, 5, 10, 15, 20, None]\n",
    "rf__max_features = [0.25, 1/3, 0.5, 2/3, 0.75]\n",
    "   \n",
    "# Train the model if required\n",
    "if TRAIN_MODEL:\n",
    "    \n",
    "    # Pipeline estimator\n",
    "    pipe = Pipeline([\n",
    "        ('scaler', StandardScaler()),\n",
    "        ('pca', PCA(random_state=0)),\n",
    "        ('rf', RandomForestClassifier(criterion='gini', class_weight='balanced', random_state=0))\n",
    "    ])\n",
    "\n",
    "    # Grid parameters\n",
    "    grid = ParameterGrid({\n",
    "        'pca__n_components': pca__n_components,\n",
    "        'rf__n_estimators': rf__n_estimators,\n",
    "        'rf__max_depth': rf__max_depth,\n",
    "        'rf__max_features': rf__max_features\n",
    "    })\n",
    "    \n",
    "    # Scorers\n",
    "    average_precision_scorer = make_scorer(average_precision_score, \n",
    "                                           greater_is_better=True, \n",
    "                                           needs_proba=False,\n",
    "                                           needs_threshold=True)\n",
    "    \n",
    "    roc_auc_scorer = make_scorer(roc_auc_score, \n",
    "                                 greater_is_better=True, \n",
    "                                 needs_threshold=True)\n",
    "    \n",
    "    # Grid Search with cross-validation\n",
    "    grid_cv = GridSearchCV(\n",
    "        pipe,\n",
    "        grid.param_grid,\n",
    "        cv=5,  # 5 folds => 2400 training, 600 validation\n",
    "        scoring={\n",
    "            'accuracy': 'accuracy',\n",
    "            'precision': 'precision',\n",
    "            'recall': 'recall',\n",
    "            'roc_auc': roc_auc_scorer,\n",
    "            'average_precision': average_precision_scorer\n",
    "        },\n",
    "        refit=False,\n",
    "        verbose=3\n",
    "    )\n",
    "\n",
    "    # Fit the model\n",
    "    grid_cv.fit(X_train, y_train)\n",
    "    \n",
    "    # Save results in a numpy file\n",
    "    np.save(GRID_PATH, grid_cv)\n",
    "else:\n",
    "    # Load the grid search results from file\n",
    "    grid_cv = np.load(GRID_PATH, allow_pickle=True).item(0)"
   ]
  },
  {
   "cell_type": "markdown",
   "metadata": {},
   "source": [
    "### Model selection"
   ]
  },
  {
   "cell_type": "markdown",
   "metadata": {},
   "source": [
    "We can extract the results and build a dataframe to analyze them:"
   ]
  },
  {
   "cell_type": "code",
   "execution_count": 6,
   "metadata": {
    "scrolled": true
   },
   "outputs": [
    {
     "name": "stdout",
     "output_type": "stream",
     "text": [
      "Number of models: 1050\n"
     ]
    },
    {
     "data": {
      "text/html": [
       "<div>\n",
       "<style scoped>\n",
       "    .dataframe tbody tr th:only-of-type {\n",
       "        vertical-align: middle;\n",
       "    }\n",
       "\n",
       "    .dataframe tbody tr th {\n",
       "        vertical-align: top;\n",
       "    }\n",
       "\n",
       "    .dataframe thead th {\n",
       "        text-align: right;\n",
       "    }\n",
       "</style>\n",
       "<table border=\"1\" class=\"dataframe\">\n",
       "  <thead>\n",
       "    <tr style=\"text-align: right;\">\n",
       "      <th></th>\n",
       "      <th>n_components</th>\n",
       "      <th>n_estimators</th>\n",
       "      <th>max_depth</th>\n",
       "      <th>max_features</th>\n",
       "      <th>mean_train_score</th>\n",
       "      <th>mean_valid_score</th>\n",
       "      <th>delta_score</th>\n",
       "      <th>std_train_score</th>\n",
       "      <th>std_valid_score</th>\n",
       "    </tr>\n",
       "  </thead>\n",
       "  <tbody>\n",
       "    <tr>\n",
       "      <th>0</th>\n",
       "      <td>9</td>\n",
       "      <td>10</td>\n",
       "      <td>3</td>\n",
       "      <td>0.25</td>\n",
       "      <td>0.800644</td>\n",
       "      <td>0.792983</td>\n",
       "      <td>0.007661</td>\n",
       "      <td>0.007618</td>\n",
       "      <td>0.022143</td>\n",
       "    </tr>\n",
       "    <tr>\n",
       "      <th>1</th>\n",
       "      <td>9</td>\n",
       "      <td>25</td>\n",
       "      <td>3</td>\n",
       "      <td>0.25</td>\n",
       "      <td>0.798402</td>\n",
       "      <td>0.784857</td>\n",
       "      <td>0.013546</td>\n",
       "      <td>0.007538</td>\n",
       "      <td>0.023079</td>\n",
       "    </tr>\n",
       "    <tr>\n",
       "      <th>2</th>\n",
       "      <td>9</td>\n",
       "      <td>50</td>\n",
       "      <td>3</td>\n",
       "      <td>0.25</td>\n",
       "      <td>0.792696</td>\n",
       "      <td>0.777900</td>\n",
       "      <td>0.014796</td>\n",
       "      <td>0.009615</td>\n",
       "      <td>0.024643</td>\n",
       "    </tr>\n",
       "    <tr>\n",
       "      <th>3</th>\n",
       "      <td>9</td>\n",
       "      <td>100</td>\n",
       "      <td>3</td>\n",
       "      <td>0.25</td>\n",
       "      <td>0.790806</td>\n",
       "      <td>0.778030</td>\n",
       "      <td>0.012775</td>\n",
       "      <td>0.008873</td>\n",
       "      <td>0.024365</td>\n",
       "    </tr>\n",
       "    <tr>\n",
       "      <th>4</th>\n",
       "      <td>9</td>\n",
       "      <td>250</td>\n",
       "      <td>3</td>\n",
       "      <td>0.25</td>\n",
       "      <td>0.788252</td>\n",
       "      <td>0.782220</td>\n",
       "      <td>0.006032</td>\n",
       "      <td>0.007991</td>\n",
       "      <td>0.021634</td>\n",
       "    </tr>\n",
       "  </tbody>\n",
       "</table>\n",
       "</div>"
      ],
      "text/plain": [
       "   n_components n_estimators  max_depth max_features  mean_train_score  \\\n",
       "0             9           10          3         0.25          0.800644   \n",
       "1             9           25          3         0.25          0.798402   \n",
       "2             9           50          3         0.25          0.792696   \n",
       "3             9          100          3         0.25          0.790806   \n",
       "4             9          250          3         0.25          0.788252   \n",
       "\n",
       "   mean_valid_score  delta_score  std_train_score  std_valid_score  \n",
       "0          0.792983     0.007661         0.007618         0.022143  \n",
       "1          0.784857     0.013546         0.007538         0.023079  \n",
       "2          0.777900     0.014796         0.009615         0.024643  \n",
       "3          0.778030     0.012775         0.008873         0.024365  \n",
       "4          0.782220     0.006032         0.007991         0.021634  "
      ]
     },
     "execution_count": 6,
     "metadata": {},
     "output_type": "execute_result"
    }
   ],
   "source": [
    "# We want to tune our models according to the precision metric\n",
    "score = 'precision'\n",
    "\n",
    "# Generic variable names to easely change the metric\n",
    "r = grid_cv.cv_results_\n",
    "mean_train_score = 'mean_train_' + score\n",
    "mean_valid_score = 'mean_test_' + score\n",
    "std_train_score  = 'std_train_' + score\n",
    "std_valid_score  = 'std_test_' + score\n",
    "\n",
    "# Create a DataFrame to analyze the grid search results\n",
    "df = pd.DataFrame.from_items([\n",
    "    ('n_components', r['param_pca__n_components']),\n",
    "    ('n_estimators', r['param_rf__n_estimators']),\n",
    "    ('max_depth', r['param_rf__max_depth']),\n",
    "    ('max_features', r['param_rf__max_features']),\n",
    "    ('mean_train_score', r[mean_train_score]),\n",
    "    ('mean_valid_score', r[mean_valid_score]),\n",
    "    ('delta_score', np.abs(r[mean_train_score] - r[mean_valid_score])),\n",
    "    ('std_train_score', r[std_train_score]),\n",
    "    ('std_valid_score', r[std_valid_score])\n",
    "])\n",
    "\n",
    "# Replace the PCA None value by the number of features\n",
    "df.n_components.fillna(X_train.shape[1], inplace=True)\n",
    "df.max_depth.fillna(99, inplace=True)\n",
    "\n",
    "print('Number of models:', df.shape[0])\n",
    "df.head(5)"
   ]
  },
  {
   "cell_type": "markdown",
   "metadata": {},
   "source": [
    "The following scatter plots will give us better insight about the results :\n",
    "\n",
    "* mean training score VS validation standard deviation\n",
    "* mean validation score VS validation standard deviation\n",
    "* delta mean scores VS validation standard deviation"
   ]
  },
  {
   "cell_type": "code",
   "execution_count": 7,
   "metadata": {},
   "outputs": [
    {
     "data": {
      "image/png": "[encoded data removed]",
      "text/plain": [
       "<matplotlib.figure.Figure at 0x11bce3240>"
      ]
     },
     "metadata": {
      "needs_background": "light"
     },
     "output_type": "display_data"
    }
   ],
   "source": [
    "# Selection filters\n",
    "depth_filter = (df.max_depth == 10)\n",
    "feature_filter = (df.max_features >= 0.5)\n",
    "\n",
    "# Plot vars\n",
    "legend_loc = ['lower right', 'lower right', 'upper right']\n",
    "ylabel = ['mean training score', 'mean validation score', 'delta score']\n",
    "ylims = [(0.45, 1), (0.45, 1), (0, 0.22)]\n",
    "\n",
    "i = 0\n",
    "fig, ax = plt.subplots(nrows=1, ncols=3, figsize=(20, 10))\n",
    "for var in ['mean_train_score', 'mean_valid_score', 'delta_score']:\n",
    "    ax[i].scatter(df.std_valid_score[df.max_depth == 3], df.loc[df.max_depth == 3, var], color='C0', label='max depth = 3', s=3)\n",
    "    ax[i].scatter(df.std_valid_score[df.max_depth == 5], df.loc[df.max_depth == 5, var], color='C1', label='max depth = 5', s=3)\n",
    "    ax[i].scatter(df.std_valid_score[df.max_depth == 10], df.loc[df.max_depth == 10, var], color='C2', label='max depth = 10', s=3)\n",
    "    ax[i].scatter(df.std_valid_score[df.max_depth == 15], df.loc[df.max_depth == 15, var], color='C3', label='max depth = 15', s=3)\n",
    "    ax[i].scatter(df.std_valid_score[df.max_depth == 15], df.loc[df.max_depth == 20, var], color='C4', label='max depth = 20', s=3)\n",
    "    ax[i].scatter(df.std_valid_score[df.max_depth == 99], df.loc[df.max_depth == 99, var], color='C5', label='max depth = None', s=3)\n",
    "\n",
    "    \n",
    "    \n",
    "    ax[i].grid(axis='both')\n",
    "    ax[i].set(xlabel='validation standard deviation', ylabel=ylabel[i], xlim=(0, ax[i].get_xlim()[1]), ylim=ylims[i])\n",
    "    ax[i].legend(loc=legend_loc[i])\n",
    "    i += 1\n",
    "\n",
    "plt.show()"
   ]
  },
  {
   "cell_type": "markdown",
   "metadata": {},
   "source": [
    "The overfitting induced by the increase of the maximum tree depth is clearly visible and form clusters. It appears that the best models should have a maximum depth of at least 10 and that above a depth of 20, we can't really expect better precision score but more overfitting.\n",
    "\n",
    "Most of the models have a standard deviation between 1% and 3%. It's okish but a rule of thumb say that it's generally not good enough for production. Good models should have validation standard deviation less than 1%.\n",
    "\n",
    "Given the results, our wish would be to find a model satisfying the following conditions:\n",
    "\n",
    "* validation standard deviation <= 1%\n",
    "* mean validation precision >= 85%"
   ]
  },
  {
   "cell_type": "code",
   "execution_count": 8,
   "metadata": {
    "scrolled": false
   },
   "outputs": [
    {
     "data": {
      "text/html": [
       "<div>\n",
       "<style scoped>\n",
       "    .dataframe tbody tr th:only-of-type {\n",
       "        vertical-align: middle;\n",
       "    }\n",
       "\n",
       "    .dataframe tbody tr th {\n",
       "        vertical-align: top;\n",
       "    }\n",
       "\n",
       "    .dataframe thead th {\n",
       "        text-align: right;\n",
       "    }\n",
       "</style>\n",
       "<table border=\"1\" class=\"dataframe\">\n",
       "  <thead>\n",
       "    <tr style=\"text-align: right;\">\n",
       "      <th></th>\n",
       "      <th>n_components</th>\n",
       "      <th>n_estimators</th>\n",
       "      <th>max_depth</th>\n",
       "      <th>max_features</th>\n",
       "      <th>mean_train_score</th>\n",
       "      <th>mean_valid_score</th>\n",
       "      <th>delta_score</th>\n",
       "      <th>std_train_score</th>\n",
       "      <th>std_valid_score</th>\n",
       "    </tr>\n",
       "  </thead>\n",
       "  <tbody>\n",
       "    <tr>\n",
       "      <th>350</th>\n",
       "      <td>12</td>\n",
       "      <td>10</td>\n",
       "      <td>20</td>\n",
       "      <td>0.25</td>\n",
       "      <td>0.982551</td>\n",
       "      <td>0.866985</td>\n",
       "      <td>0.115565</td>\n",
       "      <td>0.004427</td>\n",
       "      <td>0.008102</td>\n",
       "    </tr>\n",
       "    <tr>\n",
       "      <th>385</th>\n",
       "      <td>12</td>\n",
       "      <td>10</td>\n",
       "      <td>99</td>\n",
       "      <td>0.25</td>\n",
       "      <td>0.993098</td>\n",
       "      <td>0.864960</td>\n",
       "      <td>0.128138</td>\n",
       "      <td>0.002152</td>\n",
       "      <td>0.008837</td>\n",
       "    </tr>\n",
       "    <tr>\n",
       "      <th>927</th>\n",
       "      <td>21</td>\n",
       "      <td>100</td>\n",
       "      <td>10</td>\n",
       "      <td>0.5</td>\n",
       "      <td>0.924117</td>\n",
       "      <td>0.856680</td>\n",
       "      <td>0.067437</td>\n",
       "      <td>0.002527</td>\n",
       "      <td>0.009256</td>\n",
       "    </tr>\n",
       "    <tr>\n",
       "      <th>735</th>\n",
       "      <td>18</td>\n",
       "      <td>10</td>\n",
       "      <td>15</td>\n",
       "      <td>0.25</td>\n",
       "      <td>0.951854</td>\n",
       "      <td>0.868387</td>\n",
       "      <td>0.083467</td>\n",
       "      <td>0.006423</td>\n",
       "      <td>0.009703</td>\n",
       "    </tr>\n",
       "  </tbody>\n",
       "</table>\n",
       "</div>"
      ],
      "text/plain": [
       "     n_components n_estimators  max_depth max_features  mean_train_score  \\\n",
       "350            12           10         20         0.25          0.982551   \n",
       "385            12           10         99         0.25          0.993098   \n",
       "927            21          100         10          0.5          0.924117   \n",
       "735            18           10         15         0.25          0.951854   \n",
       "\n",
       "     mean_valid_score  delta_score  std_train_score  std_valid_score  \n",
       "350          0.866985     0.115565         0.004427         0.008102  \n",
       "385          0.864960     0.128138         0.002152         0.008837  \n",
       "927          0.856680     0.067437         0.002527         0.009256  \n",
       "735          0.868387     0.083467         0.006423         0.009703  "
      ]
     },
     "execution_count": 8,
     "metadata": {},
     "output_type": "execute_result"
    }
   ],
   "source": [
    "# Model selection according to some wished criteria\n",
    "f_std_valid = (df.std_valid_score <= 0.01)\n",
    "f_valid_score = (df.mean_valid_score >= 0.85)\n",
    "\n",
    "filter =  f_std_valid & f_valid_score\n",
    "best_models = df[filter].sort_values(by='std_valid_score', ascending=True)\n",
    "best_models"
   ]
  },
  {
   "cell_type": "markdown",
   "metadata": {},
   "source": [
    "Except the second model that bring no advantage over the first one, each others could be selected with good reason:\n",
    "\n",
    "* the first one has the lowest validation standard deviation, 87% validation score, 98% training score\n",
    "* the third one has a lower 86% validation score, but less overfitting because its 92% training score\n",
    "* the last one is in between with a slighlty better 87% validation score and 95% training score\n",
    "\n",
    "We will choose the first model as the best one.  \n",
    "I tend to think that choosing the lowest validation strandard deviation is the way to go as soon as the mean validation score is near the best score."
   ]
  },
  {
   "cell_type": "markdown",
   "metadata": {},
   "source": [
    "### Best model evaluation on the test set"
   ]
  },
  {
   "cell_type": "markdown",
   "metadata": {},
   "source": [
    "We must now to train these model on the full training set and evaluate it on the test set :"
   ]
  },
  {
   "cell_type": "code",
   "execution_count": 9,
   "metadata": {},
   "outputs": [],
   "source": [
    "# Best model hyperparameters\n",
    "pca__n_components = best_models.n_components.values[0]\n",
    "rf__n_estimators = best_models.n_estimators.values[0]\n",
    "rf__max_depth = best_models.max_depth.values[0]\n",
    "rf__max_features = best_models.max_features.values[0]\n",
    "\n",
    "if TRAIN_MODEL:\n",
    "    # Train the best model on the full training set\n",
    "    pipe = Pipeline([\n",
    "        ('scaler', StandardScaler()),\n",
    "        ('pca', PCA(n_components=pca__n_components, random_state=0)),\n",
    "        ('rf', RandomForestClassifier(n_estimators=rf__n_estimators,\n",
    "                                      max_depth=rf__max_depth,\n",
    "                                      max_features=rf__max_features,\n",
    "                                      criterion='gini', \n",
    "                                      class_weight='balanced', \n",
    "                                      random_state=0))\n",
    "    ])\n",
    "    pipe.fit(X_train, y_train)\n",
    "\n",
    "    # Save the model in a numpy file\n",
    "    np.save(MODEL_PATH, pipe)\n",
    "else:\n",
    "    # Load the model from file\n",
    "    pipe = np.load(MODEL_PATH, allow_pickle=True).item(0)    "
   ]
  },
  {
   "cell_type": "code",
   "execution_count": 10,
   "metadata": {},
   "outputs": [
    {
     "name": "stdout",
     "output_type": "stream",
     "text": [
      "Evaluation of the best model on the test set:\n",
      "---------------------------------------------\n",
      "Random Forest Precision (training set):  0.968\n",
      "Random Forest Precision (test set) :  0.887\n",
      "\n",
      "\n",
      "Confusion Matrix (test set):\n",
      "----------------------------\n",
      "\n",
      "                Actual N\tActual P\n",
      "Predicted N\t487 (TN)\t 58 (FN)\n",
      "Predicted P\t 40 (FP)\t313 (TP)\n",
      "\n",
      "\n",
      "Metric Summary (test set):\n",
      "-------------------------- \n",
      "Precision :  0.887\n",
      "Recall    :  0.844\n",
      "Accuracy  :  0.891\n",
      "F1 Score  :  0.865\n"
     ]
    }
   ],
   "source": [
    "# Get the predictions \n",
    "y_pred_tr = pipe.predict(X_train)\n",
    "y_pred_te = pipe.predict(X_test)\n",
    "\n",
    "# Get the contingency matrix\n",
    "tn, fp, fn, tp = confusion_matrix(y_test, y_pred_te).ravel()\n",
    "\n",
    "# Print the results\n",
    "print('Evaluation of the best model on the test set:')\n",
    "print('---------------------------------------------')\n",
    "print('Random Forest Precision (training set): ', np.round(precision_score(y_train, y_pred_tr), 3))\n",
    "print('Random Forest Precision (test set) : ', np.round(precision_score(y_test, y_pred_te), 3))\n",
    "print('\\n')\n",
    "print('Confusion Matrix (test set):')\n",
    "print('----------------------------\\n')\n",
    "print('                Actual N\\tActual P\\nPredicted N\\t{:3d} (TN)\\t{:3d} (FN)\\nPredicted P\\t{:3d} (FP)\\t{:3d} (TP)'.format(tn, fn, fp, tp))\n",
    "print('\\n')\n",
    "print('Metric Summary (test set):')\n",
    "print('-------------------------- ')\n",
    "print('Precision : ', np.round(precision_score(y_test, y_pred_te), 3))\n",
    "print('Recall    : ', np.round(recall_score(y_test, y_pred_te), 3))\n",
    "print('Accuracy  : ', np.round(accuracy_score(y_test, y_pred_te), 3))\n",
    "print('F1 Score  : ', np.round(f1_score(y_test, y_pred_te), 3))"
   ]
  },
  {
   "cell_type": "markdown",
   "metadata": {},
   "source": [
    "The training and test precision scores are closer and better than expected by cross-validation. The overfitting remains acceptable given the nature of the model.\n",
    "  \n",
    "This model is clearly better than the baseline models and an improvement over our best decision tree model.  \n",
    "With a precision score of 89% and a recall of 84%, it appears to be a well balanced model."
   ]
  }
 ],
 "metadata": {
  "kernelspec": {
   "display_name": "Python 3",
   "language": "python",
   "name": "python3"
  },
  "language_info": {
   "codemirror_mode": {
    "name": "ipython",
    "version": 3
   },
   "file_extension": ".py",
   "mimetype": "text/x-python",
   "name": "python",
   "nbconvert_exporter": "python",
   "pygments_lexer": "ipython3",
   "version": "3.6.4"
  }
 },
 "nbformat": 4,
 "nbformat_minor": 4
}
