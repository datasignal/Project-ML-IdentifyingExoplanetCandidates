{
 "cells": [
  {
   "cell_type": "code",
   "execution_count": 1,
   "metadata": {},
   "outputs": [],
   "source": [
    "import numpy as np\n",
    "import pandas as pd\n",
    "import sqlite3\n",
    "\n",
    "from sklearn.model_selection import train_test_split"
   ]
  },
  {
   "cell_type": "code",
   "execution_count": 2,
   "metadata": {},
   "outputs": [],
   "source": [
    "# Connect to the database\n",
    "DB_PATH = '../resources/capstone_db.sqlite'\n",
    "db = sqlite3.connect(DB_PATH)\n",
    "\n",
    "# Get a cursor\n",
    "cursor = db.cursor()"
   ]
  },
  {
   "cell_type": "markdown",
   "metadata": {},
   "source": [
    "In this notebook, we will prepare the datasets that will be used to train, tune and test the models and store them in a NPZ file.  \n",
    "We will also make a PCA analysis and define the precision of the baseline models."
   ]
  },
  {
   "cell_type": "markdown",
   "metadata": {},
   "source": [
    "## 1. Load the data from the database"
   ]
  },
  {
   "cell_type": "code",
   "execution_count": 3,
   "metadata": {},
   "outputs": [
    {
     "name": "stdout",
     "output_type": "stream",
     "text": [
      "Table Shape: (4875, 24)\n"
     ]
    },
    {
     "data": {
      "text/html": [
       "<div>\n",
       "<style scoped>\n",
       "    .dataframe tbody tr th:only-of-type {\n",
       "        vertical-align: middle;\n",
       "    }\n",
       "\n",
       "    .dataframe tbody tr th {\n",
       "        vertical-align: top;\n",
       "    }\n",
       "\n",
       "    .dataframe thead th {\n",
       "        text-align: right;\n",
       "    }\n",
       "</style>\n",
       "<table border=\"1\" class=\"dataframe\">\n",
       "  <thead>\n",
       "    <tr style=\"text-align: right;\">\n",
       "      <th></th>\n",
       "      <th>kepoi_name</th>\n",
       "      <th>fpflag_bitstring</th>\n",
       "      <th>koi_disposition</th>\n",
       "      <th>feh</th>\n",
       "      <th>ebminusv</th>\n",
       "      <th>teff_sqrt</th>\n",
       "      <th>radius_log10</th>\n",
       "      <th>teff_maxthresh</th>\n",
       "      <th>radius_maxthresh</th>\n",
       "      <th>ebminusv_maxthresh</th>\n",
       "      <th>...</th>\n",
       "      <th>indur_log10</th>\n",
       "      <th>indur_tdur_ratio_log10</th>\n",
       "      <th>tdur_tperiod_ratio_log10</th>\n",
       "      <th>impact</th>\n",
       "      <th>indur_tdur_ratio_maxthresh</th>\n",
       "      <th>tdur_tperiod_ratio_minthresh</th>\n",
       "      <th>tdur_tperiod_ratio_maxthresh</th>\n",
       "      <th>tdepth_minthresh</th>\n",
       "      <th>tdepth_maxthresh</th>\n",
       "      <th>location_cluster_fpco</th>\n",
       "    </tr>\n",
       "  </thead>\n",
       "  <tbody>\n",
       "    <tr>\n",
       "      <th>0</th>\n",
       "      <td>K00752.01</td>\n",
       "      <td>0000</td>\n",
       "      <td>CONFIRMED</td>\n",
       "      <td>0.14</td>\n",
       "      <td>0.142</td>\n",
       "      <td>76.485293</td>\n",
       "      <td>0.017033</td>\n",
       "      <td>0</td>\n",
       "      <td>0</td>\n",
       "      <td>0</td>\n",
       "      <td>...</td>\n",
       "      <td>-0.180874</td>\n",
       "      <td>-0.714746</td>\n",
       "      <td>-0.443304</td>\n",
       "      <td>0.934177</td>\n",
       "      <td>0</td>\n",
       "      <td>0</td>\n",
       "      <td>0</td>\n",
       "      <td>0</td>\n",
       "      <td>0</td>\n",
       "      <td>0</td>\n",
       "    </tr>\n",
       "    <tr>\n",
       "      <th>1</th>\n",
       "      <td>K00752.02</td>\n",
       "      <td>0000</td>\n",
       "      <td>CONFIRMED</td>\n",
       "      <td>0.14</td>\n",
       "      <td>0.142</td>\n",
       "      <td>76.485293</td>\n",
       "      <td>0.017033</td>\n",
       "      <td>0</td>\n",
       "      <td>0</td>\n",
       "      <td>0</td>\n",
       "      <td>...</td>\n",
       "      <td>-0.588736</td>\n",
       "      <td>-1.250147</td>\n",
       "      <td>-1.074335</td>\n",
       "      <td>0.711630</td>\n",
       "      <td>0</td>\n",
       "      <td>0</td>\n",
       "      <td>0</td>\n",
       "      <td>0</td>\n",
       "      <td>0</td>\n",
       "      <td>0</td>\n",
       "    </tr>\n",
       "    <tr>\n",
       "      <th>2</th>\n",
       "      <td>K00755.01</td>\n",
       "      <td>0000</td>\n",
       "      <td>CONFIRMED</td>\n",
       "      <td>0.07</td>\n",
       "      <td>0.142</td>\n",
       "      <td>77.659513</td>\n",
       "      <td>0.019532</td>\n",
       "      <td>0</td>\n",
       "      <td>0</td>\n",
       "      <td>0</td>\n",
       "      <td>...</td>\n",
       "      <td>-1.153577</td>\n",
       "      <td>-1.364348</td>\n",
       "      <td>-0.191597</td>\n",
       "      <td>0.690533</td>\n",
       "      <td>0</td>\n",
       "      <td>0</td>\n",
       "      <td>0</td>\n",
       "      <td>0</td>\n",
       "      <td>0</td>\n",
       "      <td>0</td>\n",
       "    </tr>\n",
       "    <tr>\n",
       "      <th>3</th>\n",
       "      <td>K00114.01</td>\n",
       "      <td>0110</td>\n",
       "      <td>FALSE POSITIVE</td>\n",
       "      <td>0.00</td>\n",
       "      <td>0.104</td>\n",
       "      <td>78.911343</td>\n",
       "      <td>0.291813</td>\n",
       "      <td>0</td>\n",
       "      <td>0</td>\n",
       "      <td>0</td>\n",
       "      <td>...</td>\n",
       "      <td>0.396806</td>\n",
       "      <td>-0.301030</td>\n",
       "      <td>-0.169148</td>\n",
       "      <td>0.999941</td>\n",
       "      <td>1</td>\n",
       "      <td>0</td>\n",
       "      <td>0</td>\n",
       "      <td>0</td>\n",
       "      <td>0</td>\n",
       "      <td>1</td>\n",
       "    </tr>\n",
       "    <tr>\n",
       "      <th>4</th>\n",
       "      <td>K00010.01</td>\n",
       "      <td>0000</td>\n",
       "      <td>CONFIRMED</td>\n",
       "      <td>-0.04</td>\n",
       "      <td>0.096</td>\n",
       "      <td>78.898669</td>\n",
       "      <td>0.161667</td>\n",
       "      <td>0</td>\n",
       "      <td>0</td>\n",
       "      <td>0</td>\n",
       "      <td>...</td>\n",
       "      <td>-0.278841</td>\n",
       "      <td>-0.793530</td>\n",
       "      <td>-0.032162</td>\n",
       "      <td>0.706142</td>\n",
       "      <td>0</td>\n",
       "      <td>0</td>\n",
       "      <td>0</td>\n",
       "      <td>0</td>\n",
       "      <td>0</td>\n",
       "      <td>0</td>\n",
       "    </tr>\n",
       "  </tbody>\n",
       "</table>\n",
       "<p>5 rows × 24 columns</p>\n",
       "</div>"
      ],
      "text/plain": [
       "  kepoi_name fpflag_bitstring koi_disposition   feh  ebminusv  teff_sqrt  \\\n",
       "0  K00752.01             0000       CONFIRMED  0.14     0.142  76.485293   \n",
       "1  K00752.02             0000       CONFIRMED  0.14     0.142  76.485293   \n",
       "2  K00755.01             0000       CONFIRMED  0.07     0.142  77.659513   \n",
       "3  K00114.01             0110  FALSE POSITIVE  0.00     0.104  78.911343   \n",
       "4  K00010.01             0000       CONFIRMED -0.04     0.096  78.898669   \n",
       "\n",
       "   radius_log10  teff_maxthresh  radius_maxthresh  ebminusv_maxthresh  \\\n",
       "0      0.017033               0                 0                   0   \n",
       "1      0.017033               0                 0                   0   \n",
       "2      0.019532               0                 0                   0   \n",
       "3      0.291813               0                 0                   0   \n",
       "4      0.161667               0                 0                   0   \n",
       "\n",
       "           ...            indur_log10  indur_tdur_ratio_log10  \\\n",
       "0          ...              -0.180874               -0.714746   \n",
       "1          ...              -0.588736               -1.250147   \n",
       "2          ...              -1.153577               -1.364348   \n",
       "3          ...               0.396806               -0.301030   \n",
       "4          ...              -0.278841               -0.793530   \n",
       "\n",
       "   tdur_tperiod_ratio_log10    impact  indur_tdur_ratio_maxthresh  \\\n",
       "0                 -0.443304  0.934177                           0   \n",
       "1                 -1.074335  0.711630                           0   \n",
       "2                 -0.191597  0.690533                           0   \n",
       "3                 -0.169148  0.999941                           1   \n",
       "4                 -0.032162  0.706142                           0   \n",
       "\n",
       "   tdur_tperiod_ratio_minthresh  tdur_tperiod_ratio_maxthresh  \\\n",
       "0                             0                             0   \n",
       "1                             0                             0   \n",
       "2                             0                             0   \n",
       "3                             0                             0   \n",
       "4                             0                             0   \n",
       "\n",
       "   tdepth_minthresh  tdepth_maxthresh  location_cluster_fpco  \n",
       "0                 0                 0                      0  \n",
       "1                 0                 0                      0  \n",
       "2                 0                 0                      0  \n",
       "3                 0                 0                      1  \n",
       "4                 0                 0                      0  \n",
       "\n",
       "[5 rows x 24 columns]"
      ]
     },
     "execution_count": 3,
     "metadata": {},
     "output_type": "execute_result"
    }
   ],
   "source": [
    "query = '''\n",
    "SELECT\n",
    "    ts.kepoi_name,\n",
    "    ts.fpflag_bitstring,\n",
    "    kois.koi_disposition,   \n",
    "    sp.feh,\n",
    "    sp.ebminusv,\n",
    "    ts.teff_sqrt,\n",
    "    ts.radius_log10,    \n",
    "    ts.teff_maxthresh,\n",
    "    ts.radius_maxthresh, \n",
    "    ts.ebminusv_maxthresh,\n",
    "    ts.feh_minthresh,\n",
    "    ts.tperiod_log10, \n",
    "    ts.tdepth_log10, \n",
    "    ts.tdur_log10,\n",
    "    ts.indur_log10, \n",
    "    ts.indur_tdur_ratio_log10, \n",
    "    ts.tdur_tperiod_ratio_log10,\n",
    "    tp.impact,\n",
    "    ts.indur_tdur_ratio_maxthresh, \n",
    "    ts.tdur_tperiod_ratio_minthresh,\n",
    "    ts.tdur_tperiod_ratio_maxthresh, \n",
    "    ts.tdepth_minthresh, \n",
    "    ts.tdepth_maxthresh,\n",
    "    ts.location_cluster_fpco\n",
    "FROM\n",
    "         tce_status AS ts\n",
    "    JOIN stellar_properties AS sp ON (ts.kepid = sp.kepid)\n",
    "    JOIN transit_parameters AS tp ON (ts.kepoi_name = tp.kepoi_name)\n",
    "    JOIN kois_activity_table AS kois ON (ts.kepoi_name = kois.kepoi_name)\n",
    "WHERE\n",
    "    ts.excluded = 0\n",
    "'''\n",
    "df = pd.read_sql_query(query, db)\n",
    "print('Table Shape:', df.shape)\n",
    "df.head()"
   ]
  },
  {
   "cell_type": "code",
   "execution_count": 4,
   "metadata": {},
   "outputs": [
    {
     "data": {
      "text/plain": [
       "FALSE POSITIVE    2288\n",
       "CONFIRMED         1610\n",
       "CANDIDATE          977\n",
       "Name: koi_disposition, dtype: int64"
      ]
     },
     "execution_count": 4,
     "metadata": {},
     "output_type": "execute_result"
    }
   ],
   "source": [
    "# Counts\n",
    "df.koi_disposition.value_counts()"
   ]
  },
  {
   "cell_type": "markdown",
   "metadata": {},
   "source": [
    "## 2. Prepare the candidate dataset"
   ]
  },
  {
   "cell_type": "code",
   "execution_count": 5,
   "metadata": {},
   "outputs": [],
   "source": [
    "filter = df.koi_disposition == 'CANDIDATE'\n",
    "\n",
    "# Candidates features\n",
    "candidates = df[filter].iloc[:, 3:].values\n",
    "\n",
    "# Candidates KOI identifier\n",
    "candidate_ids = df.kepoi_name[filter].values\n",
    "\n",
    "# Feature names\n",
    "feature_names = list(df.columns)[3:]"
   ]
  },
  {
   "cell_type": "markdown",
   "metadata": {},
   "source": [
    "## 3. Prepare the training and test datasets"
   ]
  },
  {
   "cell_type": "code",
   "execution_count": 6,
   "metadata": {},
   "outputs": [],
   "source": [
    "filter = df.koi_disposition != 'CANDIDATE'\n",
    "\n",
    "# Features to train and test models\n",
    "features = df[filter].iloc[:, 3:].values\n",
    "\n",
    "# KOI identifiers\n",
    "feature_ids = df.loc[filter , ['kepoi_name', 'fpflag_bitstring']].values\n",
    "\n",
    "# Encoded labels\n",
    "labels = df.koi_disposition[filter].map({'FALSE POSITIVE': 0, 'CONFIRMED': 1}).values\n",
    "\n",
    "# Label names\n",
    "label_names = ['FALSE POSITIVE', 'CONFIRMED']"
   ]
  },
  {
   "cell_type": "code",
   "execution_count": 7,
   "metadata": {},
   "outputs": [
    {
     "name": "stdout",
     "output_type": "stream",
     "text": [
      "Training dataset shape:  (3000, 21) (3000,)\n",
      "Test dataset shape:  (898, 21) (898,)\n"
     ]
    }
   ],
   "source": [
    "# Split the train/test sets (3000 training / 898 test stratified split)\n",
    "X_train, X_test, y_train, y_test = train_test_split(features, \n",
    "                                                    labels, \n",
    "                                                    test_size=898, \n",
    "                                                    random_state=0, \n",
    "                                                    shuffle=True, \n",
    "                                                    stratify=labels) \n",
    "\n",
    "# Split the IDs the same way than the features\n",
    "Ids_train, Ids_test, _, _ = train_test_split(feature_ids, \n",
    "                                         labels, \n",
    "                                         test_size=898, \n",
    "                                         random_state=0, \n",
    "                                         shuffle=True, \n",
    "                                         stratify=labels)\n",
    "\n",
    "print('Training dataset shape: ', X_train.shape, y_train.shape)\n",
    "print('Test dataset shape: ', X_test.shape, y_test.shape)"
   ]
  },
  {
   "cell_type": "code",
   "execution_count": 8,
   "metadata": {},
   "outputs": [
    {
     "name": "stdout",
     "output_type": "stream",
     "text": [
      "Training dataset counts:\n"
     ]
    },
    {
     "data": {
      "text/html": [
       "<div>\n",
       "<style scoped>\n",
       "    .dataframe tbody tr th:only-of-type {\n",
       "        vertical-align: middle;\n",
       "    }\n",
       "\n",
       "    .dataframe tbody tr th {\n",
       "        vertical-align: top;\n",
       "    }\n",
       "\n",
       "    .dataframe thead th {\n",
       "        text-align: right;\n",
       "    }\n",
       "</style>\n",
       "<table border=\"1\" class=\"dataframe\">\n",
       "  <thead>\n",
       "    <tr style=\"text-align: right;\">\n",
       "      <th></th>\n",
       "      <th>count</th>\n",
       "      <th>normalized</th>\n",
       "    </tr>\n",
       "  </thead>\n",
       "  <tbody>\n",
       "    <tr>\n",
       "      <th>FALSE POSITIVE</th>\n",
       "      <td>1761</td>\n",
       "      <td>0.587</td>\n",
       "    </tr>\n",
       "    <tr>\n",
       "      <th>CONFIRMED</th>\n",
       "      <td>1239</td>\n",
       "      <td>0.413</td>\n",
       "    </tr>\n",
       "  </tbody>\n",
       "</table>\n",
       "</div>"
      ],
      "text/plain": [
       "                count  normalized\n",
       "FALSE POSITIVE   1761       0.587\n",
       "CONFIRMED        1239       0.413"
      ]
     },
     "execution_count": 8,
     "metadata": {},
     "output_type": "execute_result"
    }
   ],
   "source": [
    "# Training set counts\n",
    "print('Training dataset counts:')\n",
    "pd.DataFrame({\n",
    "    'count': pd.value_counts(y_train), \n",
    "    'normalized': pd.value_counts(y_train, normalize=True)}\n",
    ").rename(index={0:'FALSE POSITIVE', 1:'CONFIRMED'})"
   ]
  },
  {
   "cell_type": "code",
   "execution_count": 9,
   "metadata": {},
   "outputs": [
    {
     "name": "stdout",
     "output_type": "stream",
     "text": [
      "Test dataset counts:\n"
     ]
    },
    {
     "data": {
      "text/html": [
       "<div>\n",
       "<style scoped>\n",
       "    .dataframe tbody tr th:only-of-type {\n",
       "        vertical-align: middle;\n",
       "    }\n",
       "\n",
       "    .dataframe tbody tr th {\n",
       "        vertical-align: top;\n",
       "    }\n",
       "\n",
       "    .dataframe thead th {\n",
       "        text-align: right;\n",
       "    }\n",
       "</style>\n",
       "<table border=\"1\" class=\"dataframe\">\n",
       "  <thead>\n",
       "    <tr style=\"text-align: right;\">\n",
       "      <th></th>\n",
       "      <th>count</th>\n",
       "      <th>normalized</th>\n",
       "    </tr>\n",
       "  </thead>\n",
       "  <tbody>\n",
       "    <tr>\n",
       "      <th>FALSE POSITIVE</th>\n",
       "      <td>527</td>\n",
       "      <td>0.58686</td>\n",
       "    </tr>\n",
       "    <tr>\n",
       "      <th>CONFIRMED</th>\n",
       "      <td>371</td>\n",
       "      <td>0.41314</td>\n",
       "    </tr>\n",
       "  </tbody>\n",
       "</table>\n",
       "</div>"
      ],
      "text/plain": [
       "                count  normalized\n",
       "FALSE POSITIVE    527     0.58686\n",
       "CONFIRMED         371     0.41314"
      ]
     },
     "execution_count": 9,
     "metadata": {},
     "output_type": "execute_result"
    }
   ],
   "source": [
    "# Test set counts\n",
    "print('Test dataset counts:')\n",
    "pd.DataFrame({\n",
    "    'count': pd.value_counts(y_test), \n",
    "    'normalized': pd.value_counts(y_test, normalize=True)}\n",
    ").rename(index={0:'FALSE POSITIVE', 1:'CONFIRMED'})"
   ]
  },
  {
   "cell_type": "markdown",
   "metadata": {},
   "source": [
    "## 4. Save the datasets in a NPZ file"
   ]
  },
  {
   "cell_type": "code",
   "execution_count": 10,
   "metadata": {},
   "outputs": [],
   "source": [
    "# Transit model dataset path\n",
    "PATH = '../resources/model_datasets.npz'\n",
    "\n",
    "# Save the features, labels, names and cadidates data in a npz file\n",
    "np.savez(PATH, \n",
    "         X_train=X_train, \n",
    "         X_test=X_test,\n",
    "         y_train=y_train,\n",
    "         y_test=y_test,\n",
    "         Ids_train=Ids_train,\n",
    "         Ids_test=Ids_test,\n",
    "         candidates=candidates,\n",
    "         candidate_ids=candidate_ids,\n",
    "         feature_names=feature_names,\n",
    "         label_names=label_names\n",
    "        )"
   ]
  },
  {
   "cell_type": "markdown",
   "metadata": {},
   "source": [
    "## 5. PCA Analysis"
   ]
  },
  {
   "cell_type": "code",
   "execution_count": 11,
   "metadata": {},
   "outputs": [],
   "source": [
    "from sklearn.preprocessing import StandardScaler\n",
    "from sklearn.decomposition import PCA\n",
    "import matplotlib.pyplot as plt\n",
    "import seaborn as sns\n",
    "%matplotlib inline\n",
    "sns.set()"
   ]
  },
  {
   "cell_type": "code",
   "execution_count": 12,
   "metadata": {},
   "outputs": [],
   "source": [
    "# Function to get the number of components that statisfy a proportion of variance explained\n",
    "def get_pca_n_components(cumsum, threshold=0.95):\n",
    "    idx = np.nonzero(cumsum >= threshold)[0][0] # nonzero return a tuple of arrays \n",
    "    return idx + 1\n",
    "\n",
    "# Function that return the cumulative variance for a number of components\n",
    "def get_cumulative_variance(cumsum, n_components):\n",
    "    return cumsum[n_components - 1]"
   ]
  },
  {
   "cell_type": "code",
   "execution_count": 13,
   "metadata": {},
   "outputs": [],
   "source": [
    "# Rescale data\n",
    "scaler = StandardScaler()\n",
    "X = scaler.fit_transform(X_train)"
   ]
  },
  {
   "cell_type": "code",
   "execution_count": 14,
   "metadata": {},
   "outputs": [
    {
     "name": "stdout",
     "output_type": "stream",
     "text": [
      "Number of components (variance >20%): 1\n",
      "Number of components (variance >50%): 4\n",
      "Number of components (variance >80%): 9\n",
      "Number of components (variance >90%): 12\n",
      "Number of components (variance >95%): 15\n",
      "Number of components (variance >99%): 18\n"
     ]
    }
   ],
   "source": [
    "# Principal Component Analysis\n",
    "pca = PCA(n_components=None)\n",
    "pca.fit(X, y=None)\n",
    "\n",
    "# Variance explained & Cumulative Sum\n",
    "pve = pca.explained_variance_ratio_\n",
    "pve_cumsum = np.cumsum(pve)\n",
    "\n",
    "# Print the number of components required to explain different proportion of variance\n",
    "print('Number of components (variance >20%):', get_pca_n_components(pve_cumsum, threshold=0.2))\n",
    "print('Number of components (variance >50%):', get_pca_n_components(pve_cumsum, threshold=0.5))\n",
    "print('Number of components (variance >80%):', get_pca_n_components(pve_cumsum, threshold=0.8))\n",
    "print('Number of components (variance >90%):', get_pca_n_components(pve_cumsum, threshold=0.9))\n",
    "print('Number of components (variance >95%):', get_pca_n_components(pve_cumsum, threshold=0.95))\n",
    "print('Number of components (variance >99%):', get_pca_n_components(pve_cumsum, threshold=0.99))"
   ]
  },
  {
   "cell_type": "code",
   "execution_count": 15,
   "metadata": {},
   "outputs": [
    {
     "data": {
      "image/png": "[encoded data removed]",
      "text/plain": [
       "<matplotlib.figure.Figure at 0x11fd8c908>"
      ]
     },
     "metadata": {
      "needs_background": "light"
     },
     "output_type": "display_data"
    }
   ],
   "source": [
    "# Scree plot\n",
    "plt.figure(figsize=(14, 10))\n",
    "xcor = np.arange(1, pve_cumsum.shape[0] + 1)\n",
    "plt.bar(xcor, pve)  # bar plot\n",
    "plt.step(xcor + 0.5, pve_cumsum, label='cumulative')  # cumulative plot\n",
    "\n",
    "plt.title('Scree plot')\n",
    "plt.xlabel('principal component')\n",
    "plt.ylabel('proportion of variance explained')\n",
    "plt.legend()\n",
    "plt.show()"
   ]
  },
  {
   "cell_type": "markdown",
   "metadata": {},
   "source": [
    "## 6. Baseline Models"
   ]
  },
  {
   "cell_type": "markdown",
   "metadata": {},
   "source": [
    "We know that the training and test set contains 58.7% of false positives and 41.3% of exoplanets, meaning that the baseline precision score if we would always predict an exoplanet outcome is 41.3%.\n",
    "\n",
    "However, during the EDA, we have been able to engineer indicator variables identifying easely a lot of false positives.  \n",
    "It would be more realistic to compare our models to a baseline without all these false positives."
   ]
  },
  {
   "cell_type": "code",
   "execution_count": 16,
   "metadata": {},
   "outputs": [],
   "source": [
    "# Create a dataframe from the training set\n",
    "df_train = pd.DataFrame(X_train)\n",
    "df_train.columns = feature_names\n",
    "\n",
    "# filter that join all the engineered threshold indicator variables\n",
    "f = df_train.radius_maxthresh.astype(bool) | \\\n",
    "    df_train.ebminusv_maxthresh.astype(bool) | \\\n",
    "    df_train.feh_minthresh.astype(bool) | \\\n",
    "    df_train.indur_tdur_ratio_maxthresh.astype(bool) | \\\n",
    "    df_train.tdur_tperiod_ratio_minthresh.astype(bool) | \\\n",
    "    df_train.tdur_tperiod_ratio_maxthresh.astype(bool) | \\\n",
    "    df_train.tdepth_minthresh.astype(bool) | \\\n",
    "    df_train.tdepth_maxthresh.astype(bool) "
   ]
  },
  {
   "cell_type": "code",
   "execution_count": 17,
   "metadata": {},
   "outputs": [
    {
     "data": {
      "text/plain": [
       "CONFIRMED         0.664023\n",
       "FALSE POSITIVE    0.335977\n",
       "dtype: float64"
      ]
     },
     "execution_count": 17,
     "metadata": {},
     "output_type": "execute_result"
    }
   ],
   "source": [
    "# Most-frequent baseline model\n",
    "pd.Series(y_train[~f]).value_counts(normalize=True).rename(index={0:'FALSE POSITIVE', 1:'CONFIRMED'})"
   ]
  },
  {
   "cell_type": "markdown",
   "metadata": {},
   "source": [
    "Our baseline model has a precision of 66.4%."
   ]
  }
 ],
 "metadata": {
  "kernelspec": {
   "display_name": "Python 3",
   "language": "python",
   "name": "python3"
  },
  "language_info": {
   "codemirror_mode": {
    "name": "ipython",
    "version": 3
   },
   "file_extension": ".py",
   "mimetype": "text/x-python",
   "name": "python",
   "nbconvert_exporter": "python",
   "pygments_lexer": "ipython3",
   "version": "3.6.4"
  }
 },
 "nbformat": 4,
 "nbformat_minor": 4
}
