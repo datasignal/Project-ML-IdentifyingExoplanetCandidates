{
 "cells": [
  {
   "cell_type": "code",
   "execution_count": 1,
   "metadata": {},
   "outputs": [],
   "source": [
    "import numpy as np\n",
    "import pandas as pd\n",
    "from sklearn.model_selection import ParameterGrid, GridSearchCV\n",
    "from sklearn.pipeline import Pipeline\n",
    "from sklearn.preprocessing import StandardScaler\n",
    "from sklearn.decomposition import PCA\n",
    "from sklearn.linear_model import SGDClassifier\n",
    "from sklearn.metrics import make_scorer, precision_score, recall_score, accuracy_score, f1_score, average_precision_score, roc_auc_score, confusion_matrix\n",
    "\n",
    "import matplotlib.pyplot as plt\n",
    "%matplotlib inline"
   ]
  },
  {
   "cell_type": "code",
   "execution_count": 2,
   "metadata": {},
   "outputs": [],
   "source": [
    "# CONSTANTS\n",
    "DATA_PATH   = '../resources/model_datasets.npz'\n",
    "GRID_PATH  = '../resources/model_results/logistic_regression_grid.npy'\n",
    "MODEL_PATH  = '../resources/best_models/logistic_regression.npy'\n",
    "TRAIN_MODEL = False"
   ]
  },
  {
   "cell_type": "markdown",
   "metadata": {},
   "source": [
    "# Logistic Regression Model"
   ]
  },
  {
   "cell_type": "markdown",
   "metadata": {},
   "source": [
    "### Load the data"
   ]
  },
  {
   "cell_type": "code",
   "execution_count": 3,
   "metadata": {},
   "outputs": [
    {
     "name": "stdout",
     "output_type": "stream",
     "text": [
      "Training set shape: (3000, 21) (3000,)\n",
      "Test set shape: (898, 21) (898,)\n"
     ]
    },
    {
     "data": {
      "text/html": [
       "<div>\n",
       "<style scoped>\n",
       "    .dataframe tbody tr th:only-of-type {\n",
       "        vertical-align: middle;\n",
       "    }\n",
       "\n",
       "    .dataframe tbody tr th {\n",
       "        vertical-align: top;\n",
       "    }\n",
       "\n",
       "    .dataframe thead th {\n",
       "        text-align: right;\n",
       "    }\n",
       "</style>\n",
       "<table border=\"1\" class=\"dataframe\">\n",
       "  <thead>\n",
       "    <tr style=\"text-align: right;\">\n",
       "      <th></th>\n",
       "      <th>count</th>\n",
       "      <th>normalized</th>\n",
       "    </tr>\n",
       "  </thead>\n",
       "  <tbody>\n",
       "    <tr>\n",
       "      <th>0</th>\n",
       "      <td>1761</td>\n",
       "      <td>0.587</td>\n",
       "    </tr>\n",
       "    <tr>\n",
       "      <th>1</th>\n",
       "      <td>1239</td>\n",
       "      <td>0.413</td>\n",
       "    </tr>\n",
       "  </tbody>\n",
       "</table>\n",
       "</div>"
      ],
      "text/plain": [
       "   count  normalized\n",
       "0   1761       0.587\n",
       "1   1239       0.413"
      ]
     },
     "execution_count": 3,
     "metadata": {},
     "output_type": "execute_result"
    }
   ],
   "source": [
    "# Extract the arrays from the NPZ file\n",
    "with np.load(DATA_PATH, allow_pickle=True) as npz: \n",
    "    X_train = npz['X_train'] \n",
    "    X_test = npz['X_test']\n",
    "    y_train = npz['y_train']\n",
    "    y_test = npz['y_test']\n",
    "    Ids_train = npz['Ids_train']\n",
    "    Ids_test = npz['Ids_test']\n",
    "    candidates = npz['candidates']\n",
    "    candidate_ids = npz['candidate_ids']\n",
    "    feature_names = npz['feature_names']\n",
    "    label_names = npz['label_names']\n",
    "    \n",
    "# Check shapes\n",
    "print('Training set shape:', X_train.shape, y_train.shape)\n",
    "print('Test set shape:', X_test.shape, y_test.shape)\n",
    "\n",
    "# Label counts\n",
    "pd.DataFrame({\n",
    "    'count': pd.value_counts(y_train), \n",
    "    'normalized': pd.value_counts(y_train, normalize=True)}\n",
    ")"
   ]
  },
  {
   "cell_type": "markdown",
   "metadata": {},
   "source": [
    "### Hyperparameters tuning"
   ]
  },
  {
   "cell_type": "markdown",
   "metadata": {},
   "source": [
    "A logistic regression model is a probabilistic classifier that gives the probabilities than a test point belongs to one class or the other. A binary classifier could be built simply by fitting a linear regression. However, we would have to deal with negative and greater than one probabilities. So, instead of relating probabilities to a linear function in the features space, logistic regression use a logistic function (sigmoid curve), a strongly non-linear function that guarantee that the probabilities remains in the [0, 1] range. How this probabilistic function relates to the features ? In fact, by the way the logistic model is expressed, its logit/log-odds is linear in the feature space X. Who say linear regression, say that a vector of p+1 coefficients has to be learned where p is the number of features. It will be the job of the SGD algorithm to find these coefficients. \n",
    "\n",
    "The following hyperparameters will be tuned by grid search and 5-folds cross-validation:\n",
    "\n",
    "* PCA number of components\n",
    "* Regularizazion strength $\\alpha$\n",
    "* Regularization term: L1 and L2\n",
    "\n",
    "Note that by reducing the number of dimensions with PCA, we also reduce the number of coefficients the model has to learn. The regularizazion strength allow us to manage the bias-variance trade-off: high alpha => high bias/low variance, low alpha => low bias/high variance.\n",
    "\n",
    "Because the imbalance of our target variable, we apply weights inversely proportional to class frequencies: `class_weight='balanced'`."
   ]
  },
  {
   "cell_type": "code",
   "execution_count": 4,
   "metadata": {
    "scrolled": true
   },
   "outputs": [],
   "source": [
    "# Hyperparameters\n",
    "pca__n_components = [9, 12, 15, 18, None]\n",
    "log__alpha = np.logspace(-10, -1, 100)\n",
    "log__penalty = ['l1', 'l2']\n",
    "   \n",
    "# Train the model if required\n",
    "if TRAIN_MODEL:\n",
    "    \n",
    "    # Pipeline estimator\n",
    "    pipe = Pipeline([\n",
    "        ('scaler', StandardScaler()),\n",
    "        ('pca', PCA(random_state=0)),\n",
    "        ('log', SGDClassifier(loss='log', max_iter=1000, tol=1e-3, class_weight='balanced', random_state=0))\n",
    "    ])\n",
    "\n",
    "    # Grid parameters\n",
    "    grid = ParameterGrid({\n",
    "        'pca__n_components': pca__n_components,\n",
    "        'log__penalty': log__penalty,\n",
    "        'log__alpha': log__alpha\n",
    "    })\n",
    "    \n",
    "    # Scorers\n",
    "    average_precision_scorer = make_scorer(average_precision_score, \n",
    "                                           greater_is_better=True, \n",
    "                                           needs_proba=False,\n",
    "                                           needs_threshold=True)\n",
    "    \n",
    "    roc_auc_scorer = make_scorer(roc_auc_score, \n",
    "                                 greater_is_better=True, \n",
    "                                 needs_threshold=True)\n",
    "    \n",
    "    # Grid Search with cross-validation\n",
    "    grid_cv = GridSearchCV(\n",
    "        pipe,\n",
    "        grid.param_grid,\n",
    "        cv=5,  # 5 folds => 2400 training, 600 validation\n",
    "        scoring={\n",
    "            'accuracy': 'accuracy',\n",
    "            'precision': 'precision',\n",
    "            'recall': 'recall',\n",
    "            'roc_auc': roc_auc_scorer,\n",
    "            'average_precision': average_precision_scorer\n",
    "        },\n",
    "        refit=False,\n",
    "        verbose=3\n",
    "    )\n",
    "\n",
    "    # Fit the model\n",
    "    grid_cv.fit(X_train, y_train)\n",
    "    \n",
    "    # Save results in a numpy file\n",
    "    np.save(GRID_PATH, grid_cv)\n",
    "else:\n",
    "    # Load the grid search results from file\n",
    "    grid_cv = np.load(GRID_PATH, allow_pickle=True).item(0)"
   ]
  },
  {
   "cell_type": "markdown",
   "metadata": {},
   "source": [
    "### Model selection"
   ]
  },
  {
   "cell_type": "markdown",
   "metadata": {},
   "source": [
    "We can extract the results and build a dataframe to analyze them:"
   ]
  },
  {
   "cell_type": "code",
   "execution_count": 5,
   "metadata": {
    "scrolled": true
   },
   "outputs": [
    {
     "name": "stdout",
     "output_type": "stream",
     "text": [
      "Number of models: 1000\n"
     ]
    },
    {
     "data": {
      "text/html": [
       "<div>\n",
       "<style scoped>\n",
       "    .dataframe tbody tr th:only-of-type {\n",
       "        vertical-align: middle;\n",
       "    }\n",
       "\n",
       "    .dataframe tbody tr th {\n",
       "        vertical-align: top;\n",
       "    }\n",
       "\n",
       "    .dataframe thead th {\n",
       "        text-align: right;\n",
       "    }\n",
       "</style>\n",
       "<table border=\"1\" class=\"dataframe\">\n",
       "  <thead>\n",
       "    <tr style=\"text-align: right;\">\n",
       "      <th></th>\n",
       "      <th>n_components</th>\n",
       "      <th>alpha</th>\n",
       "      <th>penalty</th>\n",
       "      <th>mean_train_score</th>\n",
       "      <th>mean_valid_score</th>\n",
       "      <th>delta_score</th>\n",
       "      <th>std_train_score</th>\n",
       "      <th>std_valid_score</th>\n",
       "    </tr>\n",
       "  </thead>\n",
       "  <tbody>\n",
       "    <tr>\n",
       "      <th>0</th>\n",
       "      <td>9</td>\n",
       "      <td>1e-10</td>\n",
       "      <td>l1</td>\n",
       "      <td>0.742534</td>\n",
       "      <td>0.749609</td>\n",
       "      <td>0.007075</td>\n",
       "      <td>0.020819</td>\n",
       "      <td>0.030072</td>\n",
       "    </tr>\n",
       "    <tr>\n",
       "      <th>1</th>\n",
       "      <td>12</td>\n",
       "      <td>1e-10</td>\n",
       "      <td>l1</td>\n",
       "      <td>0.716064</td>\n",
       "      <td>0.712027</td>\n",
       "      <td>0.004036</td>\n",
       "      <td>0.024410</td>\n",
       "      <td>0.039123</td>\n",
       "    </tr>\n",
       "    <tr>\n",
       "      <th>2</th>\n",
       "      <td>15</td>\n",
       "      <td>1e-10</td>\n",
       "      <td>l1</td>\n",
       "      <td>0.707761</td>\n",
       "      <td>0.706767</td>\n",
       "      <td>0.000994</td>\n",
       "      <td>0.044927</td>\n",
       "      <td>0.051037</td>\n",
       "    </tr>\n",
       "    <tr>\n",
       "      <th>3</th>\n",
       "      <td>18</td>\n",
       "      <td>1e-10</td>\n",
       "      <td>l1</td>\n",
       "      <td>0.735871</td>\n",
       "      <td>0.744928</td>\n",
       "      <td>0.009057</td>\n",
       "      <td>0.016274</td>\n",
       "      <td>0.033220</td>\n",
       "    </tr>\n",
       "    <tr>\n",
       "      <th>4</th>\n",
       "      <td>21</td>\n",
       "      <td>1e-10</td>\n",
       "      <td>l1</td>\n",
       "      <td>0.724324</td>\n",
       "      <td>0.717684</td>\n",
       "      <td>0.006640</td>\n",
       "      <td>0.058406</td>\n",
       "      <td>0.064243</td>\n",
       "    </tr>\n",
       "  </tbody>\n",
       "</table>\n",
       "</div>"
      ],
      "text/plain": [
       "   n_components  alpha penalty  mean_train_score  mean_valid_score  \\\n",
       "0             9  1e-10      l1          0.742534          0.749609   \n",
       "1            12  1e-10      l1          0.716064          0.712027   \n",
       "2            15  1e-10      l1          0.707761          0.706767   \n",
       "3            18  1e-10      l1          0.735871          0.744928   \n",
       "4            21  1e-10      l1          0.724324          0.717684   \n",
       "\n",
       "   delta_score  std_train_score  std_valid_score  \n",
       "0     0.007075         0.020819         0.030072  \n",
       "1     0.004036         0.024410         0.039123  \n",
       "2     0.000994         0.044927         0.051037  \n",
       "3     0.009057         0.016274         0.033220  \n",
       "4     0.006640         0.058406         0.064243  "
      ]
     },
     "execution_count": 5,
     "metadata": {},
     "output_type": "execute_result"
    }
   ],
   "source": [
    "# We want to tune our models according to the precision metric\n",
    "score = 'precision'\n",
    "\n",
    "# Generic variable names to easely change the metric\n",
    "r = grid_cv.cv_results_\n",
    "mean_train_score = 'mean_train_' + score\n",
    "mean_valid_score = 'mean_test_' + score\n",
    "std_train_score  = 'std_train_' + score\n",
    "std_valid_score  = 'std_test_' + score\n",
    "\n",
    "# Create a DataFrame to analyze the grid search results\n",
    "df = pd.DataFrame.from_items([\n",
    "    ('n_components', r['param_pca__n_components']),\n",
    "    ('alpha', r['param_log__alpha']),\n",
    "    ('penalty', r['param_log__penalty']),\n",
    "    ('mean_train_score', r[mean_train_score]),\n",
    "    ('mean_valid_score', r[mean_valid_score]),\n",
    "    ('delta_score', np.abs(r[mean_train_score] - r[mean_valid_score])),\n",
    "    ('std_train_score', r[std_train_score]),\n",
    "    ('std_valid_score', r[std_valid_score])\n",
    "])\n",
    "\n",
    "# Replace the PCA None value by the number of features\n",
    "df.n_components.fillna(X_train.shape[1], inplace=True)\n",
    "\n",
    "print('Number of models:', df.shape[0])\n",
    "df.head(5)"
   ]
  },
  {
   "cell_type": "markdown",
   "metadata": {},
   "source": [
    "The following scatter plots will give us better insight about the results :\n",
    "\n",
    "* mean training score VS validation standard deviation\n",
    "* mean validation score VS validation standard deviation\n",
    "* delta mean scores VS validation standard deviation"
   ]
  },
  {
   "cell_type": "code",
   "execution_count": 6,
   "metadata": {},
   "outputs": [
    {
     "data": {
      "image/png": "[encoded data removed]",
      "text/plain": [
       "<matplotlib.figure.Figure at 0x12547a438>"
      ]
     },
     "metadata": {
      "needs_background": "light"
     },
     "output_type": "display_data"
    }
   ],
   "source": [
    "# Selection filters\n",
    "filter_alpha = (df.alpha < 1e-3)\n",
    "filter_penalty = (df.penalty == 'l1')\n",
    "\n",
    "# Plot vars\n",
    "ylabel = ['mean training score', 'mean validation score', 'delta score']\n",
    "ylims = [(0.45, 1), (0.45, 1), (0, 0.22)]\n",
    "\n",
    "i = 0\n",
    "fig, ax = plt.subplots(nrows=1, ncols=3, figsize=(20, 10))\n",
    "for var in ['mean_train_score', 'mean_valid_score', 'delta_score']:\n",
    "    ax[i].scatter(df.std_valid_score[filter_alpha], df.loc[filter_alpha, var], color='C0', label='alpha < 1e-3', s=3)\n",
    "    ax[i].scatter(df.std_valid_score[~filter_alpha & filter_penalty], df.loc[~filter_alpha & filter_penalty, var], color='C1', label='alpha >= 1e-3, penalty L1', s=3)\n",
    "    ax[i].scatter(df.std_valid_score[~filter_alpha & ~filter_penalty], df.loc[~filter_alpha & ~filter_penalty, var], color='C3', label='alpha >= 1e-3, penalty L2', s=3)\n",
    "    \n",
    "    ax[i].grid(axis='both')\n",
    "    ax[i].set(xlabel='validation standard deviation', ylabel=ylabel[i], xlim=(0, ax[i].get_xlim()[1]), ylim=ylims[i])\n",
    "    ax[i].legend(loc='upper right')\n",
    "    i += 1\n",
    "\n",
    "plt.show()"
   ]
  },
  {
   "cell_type": "markdown",
   "metadata": {},
   "source": [
    "There are models with a validation standard deviation below 1%. The models with higher regularization strength have less spreaded validation standard deviation range because they tend to have higher bias but lower variance. Given the fact that our problem isn't linear, the impact on the bias is less evident...\n",
    "\n",
    "Given the results, our wish would be to find a model satisfying the following conditions:\n",
    "\n",
    "* validation standard deviation <= 1%\n",
    "* mean validation precision >= 75%"
   ]
  },
  {
   "cell_type": "code",
   "execution_count": 7,
   "metadata": {
    "scrolled": false
   },
   "outputs": [
    {
     "data": {
      "text/html": [
       "<div>\n",
       "<style scoped>\n",
       "    .dataframe tbody tr th:only-of-type {\n",
       "        vertical-align: middle;\n",
       "    }\n",
       "\n",
       "    .dataframe tbody tr th {\n",
       "        vertical-align: top;\n",
       "    }\n",
       "\n",
       "    .dataframe thead th {\n",
       "        text-align: right;\n",
       "    }\n",
       "</style>\n",
       "<table border=\"1\" class=\"dataframe\">\n",
       "  <thead>\n",
       "    <tr style=\"text-align: right;\">\n",
       "      <th></th>\n",
       "      <th>n_components</th>\n",
       "      <th>alpha</th>\n",
       "      <th>penalty</th>\n",
       "      <th>mean_train_score</th>\n",
       "      <th>mean_valid_score</th>\n",
       "      <th>delta_score</th>\n",
       "      <th>std_train_score</th>\n",
       "      <th>std_valid_score</th>\n",
       "    </tr>\n",
       "  </thead>\n",
       "  <tbody>\n",
       "    <tr>\n",
       "      <th>808</th>\n",
       "      <td>18</td>\n",
       "      <td>0.00187382</td>\n",
       "      <td>l2</td>\n",
       "      <td>0.765121</td>\n",
       "      <td>0.763358</td>\n",
       "      <td>0.001763</td>\n",
       "      <td>0.017279</td>\n",
       "      <td>0.008312</td>\n",
       "    </tr>\n",
       "    <tr>\n",
       "      <th>819</th>\n",
       "      <td>21</td>\n",
       "      <td>0.00231013</td>\n",
       "      <td>l2</td>\n",
       "      <td>0.761534</td>\n",
       "      <td>0.761174</td>\n",
       "      <td>0.000360</td>\n",
       "      <td>0.010373</td>\n",
       "      <td>0.008861</td>\n",
       "    </tr>\n",
       "    <tr>\n",
       "      <th>809</th>\n",
       "      <td>21</td>\n",
       "      <td>0.00187382</td>\n",
       "      <td>l2</td>\n",
       "      <td>0.767529</td>\n",
       "      <td>0.769729</td>\n",
       "      <td>0.002199</td>\n",
       "      <td>0.016127</td>\n",
       "      <td>0.009454</td>\n",
       "    </tr>\n",
       "  </tbody>\n",
       "</table>\n",
       "</div>"
      ],
      "text/plain": [
       "     n_components       alpha penalty  mean_train_score  mean_valid_score  \\\n",
       "808            18  0.00187382      l2          0.765121          0.763358   \n",
       "819            21  0.00231013      l2          0.761534          0.761174   \n",
       "809            21  0.00187382      l2          0.767529          0.769729   \n",
       "\n",
       "     delta_score  std_train_score  std_valid_score  \n",
       "808     0.001763         0.017279         0.008312  \n",
       "819     0.000360         0.010373         0.008861  \n",
       "809     0.002199         0.016127         0.009454  "
      ]
     },
     "execution_count": 7,
     "metadata": {},
     "output_type": "execute_result"
    }
   ],
   "source": [
    "f_std_valid = (df.std_valid_score <= 0.01)\n",
    "f_valid_score = (df.mean_valid_score > 0.75)\n",
    "\n",
    "filter =  f_std_valid & f_valid_score\n",
    "best_models = df[filter].sort_values(by='std_valid_score', ascending=True)\n",
    "best_models"
   ]
  },
  {
   "cell_type": "markdown",
   "metadata": {},
   "source": [
    "The mean validation precision score being the same, selecting the model with the best validation standard deviation sounds indicated..."
   ]
  },
  {
   "cell_type": "markdown",
   "metadata": {},
   "source": [
    "### Best model evaluation"
   ]
  },
  {
   "cell_type": "markdown",
   "metadata": {},
   "source": [
    "We must now to train these model on the full training set and evaluate it on the test set :"
   ]
  },
  {
   "cell_type": "code",
   "execution_count": 8,
   "metadata": {},
   "outputs": [],
   "source": [
    "# Best model hyperparameters\n",
    "pca__n_components = best_models.n_components.values[0]\n",
    "log__alpha = best_models.alpha.values[0]\n",
    "log__penalty = best_models.penalty.values[0]\n",
    "\n",
    "if TRAIN_MODEL:\n",
    "    \n",
    "    # Train the best model on the full training set\n",
    "    pipe = Pipeline([\n",
    "        ('scaler', StandardScaler()),\n",
    "        ('pca', PCA(n_components=pca__n_components, random_state=0)),\n",
    "        ('log', SGDClassifier(alpha=log__alpha,\n",
    "                              penalty=log__penalty,\n",
    "                              loss='log', \n",
    "                              max_iter=1000, \n",
    "                              tol=1e-3, \n",
    "                              class_weight='balanced', \n",
    "                              random_state=0))\n",
    "    ])\n",
    "    pipe.fit(X_train, y_train)\n",
    "    \n",
    "    # Save the model in a numpy file\n",
    "    np.save(MODEL_PATH, pipe)\n",
    "else:\n",
    "    # Load the model from file\n",
    "    pipe = np.load(MODEL_PATH, allow_pickle=True).item(0)"
   ]
  },
  {
   "cell_type": "code",
   "execution_count": 9,
   "metadata": {},
   "outputs": [
    {
     "name": "stdout",
     "output_type": "stream",
     "text": [
      "Evaluation of the best model on the test set:\n",
      "---------------------------------------------\n",
      "Logistic Regression Precision (training set):  0.773\n",
      "Logistic Regression Precision (test set) :  0.811\n",
      "\n",
      "\n",
      "Confusion Matrix (test set):\n",
      "----------------------------\n",
      "\n",
      "                Actual N\tActual P\n",
      "Predicted N\t449 (TN)\t 36 (FN)\n",
      "Predicted P\t 78 (FP)\t335 (TP)\n",
      "\n",
      "\n",
      "Metric Summary (test set):\n",
      "-------------------------- \n",
      "Precision :  0.811\n",
      "Recall    :  0.903\n",
      "Accuracy  :  0.873\n",
      "F1 Score  :  0.855\n"
     ]
    }
   ],
   "source": [
    "# Get the predictions \n",
    "y_pred_tr = pipe.predict(X_train)\n",
    "y_pred_te = pipe.predict(X_test)\n",
    "\n",
    "# Get the contingency matrix\n",
    "tn, fp, fn, tp = confusion_matrix(y_test, y_pred_te).ravel()\n",
    "\n",
    "# Print the results\n",
    "print('Evaluation of the best model on the test set:')\n",
    "print('---------------------------------------------')\n",
    "print('Logistic Regression Precision (training set): ', np.round(precision_score(y_train, y_pred_tr), 3))\n",
    "print('Logistic Regression Precision (test set) : ', np.round(precision_score(y_test, y_pred_te), 3))\n",
    "print('\\n')\n",
    "print('Confusion Matrix (test set):')\n",
    "print('----------------------------\\n')\n",
    "print('                Actual N\\tActual P\\nPredicted N\\t{:3d} (TN)\\t{:3d} (FN)\\nPredicted P\\t{:3d} (FP)\\t{:3d} (TP)'.format(tn, fn, fp, tp))\n",
    "print('\\n')\n",
    "print('Metric Summary (test set):')\n",
    "print('-------------------------- ')\n",
    "print('Precision : ', np.round(precision_score(y_test, y_pred_te), 3))\n",
    "print('Recall    : ', np.round(recall_score(y_test, y_pred_te), 3))\n",
    "print('Accuracy  : ', np.round(accuracy_score(y_test, y_pred_te), 3))\n",
    "print('F1 Score  : ', np.round(f1_score(y_test, y_pred_te), 3))"
   ]
  },
  {
   "cell_type": "markdown",
   "metadata": {},
   "source": [
    "Again, the test precision score is clearly better than predicted by cross-validation. The test dataset doesn't have a lot of samples, hence the observed test score variance.\n",
    "\n",
    "The test precision score is better than the baseline models but worse than the other kind of models. However, it does a good job to identify most of the exoplanets with a recall at 90%."
   ]
  }
 ],
 "metadata": {
  "kernelspec": {
   "display_name": "Python 3",
   "language": "python",
   "name": "python3"
  },
  "language_info": {
   "codemirror_mode": {
    "name": "ipython",
    "version": 3
   },
   "file_extension": ".py",
   "mimetype": "text/x-python",
   "name": "python",
   "nbconvert_exporter": "python",
   "pygments_lexer": "ipython3",
   "version": "3.6.4"
  }
 },
 "nbformat": 4,
 "nbformat_minor": 4
}
