{
 "cells": [
  {
   "cell_type": "code",
   "execution_count": 1,
   "metadata": {},
   "outputs": [],
   "source": [
    "import numpy as np\n",
    "import pandas as pd\n",
    "from sklearn.model_selection import ParameterGrid, GridSearchCV\n",
    "from sklearn.pipeline import Pipeline\n",
    "from sklearn.preprocessing import StandardScaler\n",
    "from sklearn.decomposition import PCA\n",
    "from sklearn.neighbors import KNeighborsClassifier\n",
    "from sklearn.metrics import make_scorer, average_precision_score, precision_recall_curve, roc_auc_score, precision_score, recall_score, accuracy_score, f1_score, confusion_matrix\n",
    "\n",
    "import matplotlib.pyplot as plt\n",
    "%matplotlib inline"
   ]
  },
  {
   "cell_type": "code",
   "execution_count": 2,
   "metadata": {},
   "outputs": [],
   "source": [
    "# CONSTANTS\n",
    "DATA_PATH   = '../resources/model_datasets.npz'\n",
    "GRID_PATH  = '../resources/model_results/knn_grid.npy'\n",
    "MODEL_PATH  = '../resources/best_models/knn.npy'\n",
    "TRAIN_MODEL = False"
   ]
  },
  {
   "cell_type": "markdown",
   "metadata": {},
   "source": [
    "# K Nearest Neighbors Model"
   ]
  },
  {
   "cell_type": "markdown",
   "metadata": {},
   "source": [
    "### Load the data"
   ]
  },
  {
   "cell_type": "code",
   "execution_count": 3,
   "metadata": {},
   "outputs": [
    {
     "name": "stdout",
     "output_type": "stream",
     "text": [
      "Training set shape: (3000, 21) (3000,)\n",
      "Test set shape: (898, 21) (898,)\n"
     ]
    },
    {
     "data": {
      "text/html": [
       "<div>\n",
       "<style scoped>\n",
       "    .dataframe tbody tr th:only-of-type {\n",
       "        vertical-align: middle;\n",
       "    }\n",
       "\n",
       "    .dataframe tbody tr th {\n",
       "        vertical-align: top;\n",
       "    }\n",
       "\n",
       "    .dataframe thead th {\n",
       "        text-align: right;\n",
       "    }\n",
       "</style>\n",
       "<table border=\"1\" class=\"dataframe\">\n",
       "  <thead>\n",
       "    <tr style=\"text-align: right;\">\n",
       "      <th></th>\n",
       "      <th>count</th>\n",
       "      <th>normalized</th>\n",
       "    </tr>\n",
       "  </thead>\n",
       "  <tbody>\n",
       "    <tr>\n",
       "      <th>0</th>\n",
       "      <td>1761</td>\n",
       "      <td>0.587</td>\n",
       "    </tr>\n",
       "    <tr>\n",
       "      <th>1</th>\n",
       "      <td>1239</td>\n",
       "      <td>0.413</td>\n",
       "    </tr>\n",
       "  </tbody>\n",
       "</table>\n",
       "</div>"
      ],
      "text/plain": [
       "   count  normalized\n",
       "0   1761       0.587\n",
       "1   1239       0.413"
      ]
     },
     "execution_count": 3,
     "metadata": {},
     "output_type": "execute_result"
    }
   ],
   "source": [
    "# Extract the arrays from the NPZ file\n",
    "with np.load(DATA_PATH, allow_pickle=True) as npz: \n",
    "    X_train = npz['X_train'] \n",
    "    X_test = npz['X_test']\n",
    "    y_train = npz['y_train']\n",
    "    y_test = npz['y_test']\n",
    "    Ids_train = npz['Ids_train']\n",
    "    Ids_test = npz['Ids_test']\n",
    "    candidates = npz['candidates']\n",
    "    candidate_ids = npz['candidate_ids']\n",
    "    feature_names = npz['feature_names']\n",
    "    label_names = npz['label_names']\n",
    "    \n",
    "# Check shapes\n",
    "print('Training set shape:', X_train.shape, y_train.shape)\n",
    "print('Test set shape:', X_test.shape, y_test.shape)\n",
    "\n",
    "# Label counts\n",
    "pd.DataFrame({\n",
    "    'count': pd.value_counts(y_train), \n",
    "    'normalized': pd.value_counts(y_train, normalize=True)}\n",
    ")"
   ]
  },
  {
   "cell_type": "markdown",
   "metadata": {},
   "source": [
    "### Hyperparameters tuning"
   ]
  },
  {
   "cell_type": "markdown",
   "metadata": {},
   "source": [
    "K Nearest Neighbors models are very intuitive and great in the sense that they don't try to learn some coefficients and don't make any assumption about the linearity or non-linearity of the data. Data points are simply points in an N dimensional space with a target value. Features are only used to compute the distance between data points. The predicted target value of a test data point is attributed in function of its k nearest neighbors data point target values. So, there are in fact two functions behind the scene: \n",
    "\n",
    "* One function that computes the distance (L1, L2, or something else if we want)\n",
    "* One function that returns a predicted target value from the class of the k nearest data points (the class with the most occurrence for example)\n",
    "\n",
    "The following hyperparameters will be tuned by grid search and 5-folds cross-validation:\n",
    "\n",
    "* PCA number of components\n",
    "* Number of nearest neighbors\n",
    "* Function computing the distance: L1 and L2\n",
    "* Weight function: uniform and distance\n",
    "\n",
    "Note that the knn model doesn't support the class_weight parameter to manage the imbalance of our target variable. Aside of this notebook, I tried to downsampling the majority class but it wasn't worth the effort. Dropping 500 false positives has more negative effect than the classes imbalance."
   ]
  },
  {
   "cell_type": "code",
   "execution_count": 4,
   "metadata": {
    "scrolled": true
   },
   "outputs": [],
   "source": [
    "# Hyperparameters\n",
    "pca__n_components = [9, 12, 15, 18, None]\n",
    "knn__n_neighbors = list(np.arange(3, 30)) + [35, 40, 45, 50]\n",
    "knn__weights = ['uniform', 'distance']\n",
    "knn__p = [1, 2]\n",
    "    \n",
    "# Train the model if required\n",
    "if TRAIN_MODEL:\n",
    "    \n",
    "    # Pipeline estimator\n",
    "    pipe = Pipeline([\n",
    "        ('scaler', StandardScaler()),\n",
    "        ('pca', PCA(random_state=0)),\n",
    "        ('knn', KNeighborsClassifier(algorithm='brute'))\n",
    "    ])\n",
    "\n",
    "    # Grid parameters\n",
    "    grid = ParameterGrid({\n",
    "        'pca__n_components': pca__n_components,\n",
    "        'knn__n_neighbors': knn__n_neighbors,\n",
    "        'knn__weights': knn__weights,\n",
    "        'knn__p': knn__p,\n",
    "        \n",
    "    })\n",
    "    \n",
    "    # Scorers\n",
    "    average_precision_scorer = make_scorer(average_precision_score, \n",
    "                                           greater_is_better=True, \n",
    "                                           needs_proba=False,\n",
    "                                           needs_threshold=True)\n",
    "    \n",
    "    roc_auc_scorer = make_scorer(roc_auc_score, \n",
    "                                 greater_is_better=True, \n",
    "                                 needs_threshold=True)\n",
    "\n",
    "    # Grid Search with cross-validation\n",
    "    grid_cv = GridSearchCV(\n",
    "        pipe,\n",
    "        grid.param_grid,\n",
    "        cv=5,  # 5 folds => 2400 training, 600 validation\n",
    "        scoring={\n",
    "            'accuracy': 'accuracy',\n",
    "            'precision': 'precision',\n",
    "            'recall': 'recall',\n",
    "            'roc_auc': roc_auc_scorer,\n",
    "            'average_precision': average_precision_scorer\n",
    "        },\n",
    "        refit=False,\n",
    "        verbose=3\n",
    "    )\n",
    "\n",
    "    # Fit the model\n",
    "    grid_cv.fit(X_train, y_train)\n",
    "    \n",
    "    # Save results in a numpy file\n",
    "    np.save(GRID_PATH, grid_cv)\n",
    "else:\n",
    "    # Load the grid search results from file\n",
    "    grid_cv = np.load(GRID_PATH, allow_pickle=True).item(0)"
   ]
  },
  {
   "cell_type": "markdown",
   "metadata": {},
   "source": [
    "### Model selection"
   ]
  },
  {
   "cell_type": "markdown",
   "metadata": {},
   "source": [
    "We can extract the results and build a dataframe to analyze them:"
   ]
  },
  {
   "cell_type": "code",
   "execution_count": 5,
   "metadata": {
    "scrolled": true
   },
   "outputs": [
    {
     "name": "stdout",
     "output_type": "stream",
     "text": [
      "Number of models: 620\n"
     ]
    },
    {
     "data": {
      "text/html": [
       "<div>\n",
       "<style scoped>\n",
       "    .dataframe tbody tr th:only-of-type {\n",
       "        vertical-align: middle;\n",
       "    }\n",
       "\n",
       "    .dataframe tbody tr th {\n",
       "        vertical-align: top;\n",
       "    }\n",
       "\n",
       "    .dataframe thead th {\n",
       "        text-align: right;\n",
       "    }\n",
       "</style>\n",
       "<table border=\"1\" class=\"dataframe\">\n",
       "  <thead>\n",
       "    <tr style=\"text-align: right;\">\n",
       "      <th></th>\n",
       "      <th>n_components</th>\n",
       "      <th>n_neighbors</th>\n",
       "      <th>weights</th>\n",
       "      <th>p</th>\n",
       "      <th>mean_train_score</th>\n",
       "      <th>mean_valid_score</th>\n",
       "      <th>delta_score</th>\n",
       "      <th>std_train_score</th>\n",
       "      <th>std_valid_score</th>\n",
       "    </tr>\n",
       "  </thead>\n",
       "  <tbody>\n",
       "    <tr>\n",
       "      <th>0</th>\n",
       "      <td>9</td>\n",
       "      <td>3</td>\n",
       "      <td>uniform</td>\n",
       "      <td>1</td>\n",
       "      <td>0.890601</td>\n",
       "      <td>0.822504</td>\n",
       "      <td>0.068096</td>\n",
       "      <td>0.007756</td>\n",
       "      <td>0.026496</td>\n",
       "    </tr>\n",
       "    <tr>\n",
       "      <th>1</th>\n",
       "      <td>12</td>\n",
       "      <td>3</td>\n",
       "      <td>uniform</td>\n",
       "      <td>1</td>\n",
       "      <td>0.888882</td>\n",
       "      <td>0.819213</td>\n",
       "      <td>0.069669</td>\n",
       "      <td>0.003362</td>\n",
       "      <td>0.021143</td>\n",
       "    </tr>\n",
       "    <tr>\n",
       "      <th>2</th>\n",
       "      <td>15</td>\n",
       "      <td>3</td>\n",
       "      <td>uniform</td>\n",
       "      <td>1</td>\n",
       "      <td>0.884421</td>\n",
       "      <td>0.810758</td>\n",
       "      <td>0.073663</td>\n",
       "      <td>0.006939</td>\n",
       "      <td>0.025552</td>\n",
       "    </tr>\n",
       "    <tr>\n",
       "      <th>3</th>\n",
       "      <td>18</td>\n",
       "      <td>3</td>\n",
       "      <td>uniform</td>\n",
       "      <td>1</td>\n",
       "      <td>0.889162</td>\n",
       "      <td>0.812310</td>\n",
       "      <td>0.076852</td>\n",
       "      <td>0.003888</td>\n",
       "      <td>0.019738</td>\n",
       "    </tr>\n",
       "    <tr>\n",
       "      <th>4</th>\n",
       "      <td>21</td>\n",
       "      <td>3</td>\n",
       "      <td>uniform</td>\n",
       "      <td>1</td>\n",
       "      <td>0.888747</td>\n",
       "      <td>0.812644</td>\n",
       "      <td>0.076103</td>\n",
       "      <td>0.003497</td>\n",
       "      <td>0.021546</td>\n",
       "    </tr>\n",
       "  </tbody>\n",
       "</table>\n",
       "</div>"
      ],
      "text/plain": [
       "   n_components n_neighbors  weights  p  mean_train_score  mean_valid_score  \\\n",
       "0             9           3  uniform  1          0.890601          0.822504   \n",
       "1            12           3  uniform  1          0.888882          0.819213   \n",
       "2            15           3  uniform  1          0.884421          0.810758   \n",
       "3            18           3  uniform  1          0.889162          0.812310   \n",
       "4            21           3  uniform  1          0.888747          0.812644   \n",
       "\n",
       "   delta_score  std_train_score  std_valid_score  \n",
       "0     0.068096         0.007756         0.026496  \n",
       "1     0.069669         0.003362         0.021143  \n",
       "2     0.073663         0.006939         0.025552  \n",
       "3     0.076852         0.003888         0.019738  \n",
       "4     0.076103         0.003497         0.021546  "
      ]
     },
     "execution_count": 5,
     "metadata": {},
     "output_type": "execute_result"
    }
   ],
   "source": [
    "# We want to tune our models according to the precision metric\n",
    "score = 'precision'\n",
    "\n",
    "# Generic variable names to easely change the metric\n",
    "r = grid_cv.cv_results_\n",
    "mean_train_score = 'mean_train_' + score\n",
    "mean_valid_score = 'mean_test_' + score\n",
    "std_train_score  = 'std_train_' + score\n",
    "std_valid_score  = 'std_test_' + score\n",
    "\n",
    "# Create a DataFrame to analyze the grid search results\n",
    "df = pd.DataFrame.from_items([\n",
    "    ('n_components', r['param_pca__n_components']),\n",
    "    ('n_neighbors', r['param_knn__n_neighbors']),\n",
    "    ('weights', r['param_knn__weights']),\n",
    "    ('p', r['param_knn__p']),\n",
    "    ('mean_train_score', r[mean_train_score]),\n",
    "    ('mean_valid_score', r[mean_valid_score]),\n",
    "    ('delta_score', np.abs(r[mean_train_score] - r[mean_valid_score])),\n",
    "    ('std_train_score', r[std_train_score]),\n",
    "    ('std_valid_score', r[std_valid_score])\n",
    "])\n",
    "\n",
    "# Replace the PCA None value by the number of features\n",
    "df.n_components.fillna(X_train.shape[1], inplace=True)\n",
    "\n",
    "print('Number of models:', df.shape[0])\n",
    "df.head(5)"
   ]
  },
  {
   "cell_type": "markdown",
   "metadata": {},
   "source": [
    "The following scatter plots will give us better insight about the results :\n",
    "\n",
    "* mean training score VS validation standard deviation\n",
    "* mean validation score VS validation standard deviation\n",
    "* delta mean scores VS validation standard deviation"
   ]
  },
  {
   "cell_type": "code",
   "execution_count": 6,
   "metadata": {},
   "outputs": [
    {
     "data": {
      "image/png": "[encoded data removed]",
      "text/plain": [
       "<matplotlib.figure.Figure at 0x1192feef0>"
      ]
     },
     "metadata": {
      "needs_background": "light"
     },
     "output_type": "display_data"
    }
   ],
   "source": [
    "# Selection filters\n",
    "distance_filter = (df.weights == 'distance')\n",
    "n_filter = (df.n_neighbors <= 10)\n",
    "\n",
    "# Plot vars\n",
    "ylabel = ['mean training score', 'mean validation score', 'delta score']\n",
    "\n",
    "i = 0\n",
    "fig, ax = plt.subplots(nrows=1, ncols=3, figsize=(20, 10))\n",
    "for var in ['mean_train_score', 'mean_valid_score', 'delta_score']:\n",
    "    ax[i].scatter(df.std_valid_score[distance_filter], df.loc[distance_filter, var], color='C3', label='distance', s=6) \n",
    "    ax[i].scatter(df.std_valid_score[~distance_filter & n_filter], df.loc[~distance_filter & n_filter, var], color='C0', label='uniform, k <= 10', s=6)\n",
    "    ax[i].scatter(df.std_valid_score[~distance_filter & ~n_filter], df.loc[~distance_filter & ~n_filter, var], color='C1', label='uniform, k > 10', s=6)\n",
    "    \n",
    "    ax[i].grid(axis='both')\n",
    "    ax[i].set(xlabel='validation standard deviation', ylabel=ylabel[i], xlim=(0, ax[i].get_xlim()[1]))\n",
    "    ax[i].legend(loc='upper left')\n",
    "    i += 1\n",
    "\n",
    "plt.show()"
   ]
  },
  {
   "cell_type": "markdown",
   "metadata": {},
   "source": [
    "The models trained with the distance weighting function strongly overfit the data. It's probably due to the classes imbalance and we can safely exclude them. \n",
    "\n",
    "The number of neighbors has a direct impact on the bias/variance trade-off, low k values lead to highly flexible models with low bias but high variance, so more overfitting. Reciproquely, high k values lead to rigid model with high bias but low variance, so less overfitting. \n",
    "\n",
    "Given the results, unfortunately, all models have validation standard deviation higher than 1%.  \n",
    "Our wish would be to find a model satisfying the following conditions:\n",
    "\n",
    "* validation standard deviation <= 1.5%\n",
    "* weight function = uniform\n",
    "* mean validation precision >= 82%\n",
    "* delta score <= 4%"
   ]
  },
  {
   "cell_type": "code",
   "execution_count": 7,
   "metadata": {
    "scrolled": false
   },
   "outputs": [
    {
     "data": {
      "text/html": [
       "<div>\n",
       "<style scoped>\n",
       "    .dataframe tbody tr th:only-of-type {\n",
       "        vertical-align: middle;\n",
       "    }\n",
       "\n",
       "    .dataframe tbody tr th {\n",
       "        vertical-align: top;\n",
       "    }\n",
       "\n",
       "    .dataframe thead th {\n",
       "        text-align: right;\n",
       "    }\n",
       "</style>\n",
       "<table border=\"1\" class=\"dataframe\">\n",
       "  <thead>\n",
       "    <tr style=\"text-align: right;\">\n",
       "      <th></th>\n",
       "      <th>n_components</th>\n",
       "      <th>n_neighbors</th>\n",
       "      <th>weights</th>\n",
       "      <th>p</th>\n",
       "      <th>mean_train_score</th>\n",
       "      <th>mean_valid_score</th>\n",
       "      <th>delta_score</th>\n",
       "      <th>std_train_score</th>\n",
       "      <th>std_valid_score</th>\n",
       "    </tr>\n",
       "  </thead>\n",
       "  <tbody>\n",
       "    <tr>\n",
       "      <th>111</th>\n",
       "      <td>12</td>\n",
       "      <td>8</td>\n",
       "      <td>uniform</td>\n",
       "      <td>2</td>\n",
       "      <td>0.86316</td>\n",
       "      <td>0.833102</td>\n",
       "      <td>0.030058</td>\n",
       "      <td>0.005969</td>\n",
       "      <td>0.012256</td>\n",
       "    </tr>\n",
       "  </tbody>\n",
       "</table>\n",
       "</div>"
      ],
      "text/plain": [
       "     n_components n_neighbors  weights  p  mean_train_score  mean_valid_score  \\\n",
       "111            12           8  uniform  2           0.86316          0.833102   \n",
       "\n",
       "     delta_score  std_train_score  std_valid_score  \n",
       "111     0.030058         0.005969         0.012256  "
      ]
     },
     "execution_count": 7,
     "metadata": {},
     "output_type": "execute_result"
    }
   ],
   "source": [
    "f_std_valid = (df.std_valid_score <= 0.015)\n",
    "f_delta_score = (df.delta_score <= 0.04)\n",
    "f_weights = (df.weights == 'uniform')\n",
    "f_score_valid = (df.mean_valid_score > 0.82)\n",
    "\n",
    "filter = f_std_valid & f_weights & f_delta_score & f_score_valid \n",
    "selected_models = df[filter].sort_values(by='std_valid_score', ascending=True)\n",
    "selected_models"
   ]
  },
  {
   "cell_type": "markdown",
   "metadata": {},
   "source": [
    "Only one model fullfill all the conditions, the choice is simple..."
   ]
  },
  {
   "cell_type": "markdown",
   "metadata": {},
   "source": [
    "### Best model evaluation"
   ]
  },
  {
   "cell_type": "markdown",
   "metadata": {},
   "source": [
    "We must now to train these model on the full training set and evaluate it on the test set :"
   ]
  },
  {
   "cell_type": "code",
   "execution_count": 8,
   "metadata": {},
   "outputs": [],
   "source": [
    "# Best model hyperparameters\n",
    "pca__n_components = selected_models.n_components.values[0]\n",
    "knn__n_neighbors = selected_models.n_neighbors.values[0]\n",
    "knn__weights = selected_models.weights.values[0]\n",
    "knn__p = selected_models.p.values[0]\n",
    "\n",
    "if TRAIN_MODEL:\n",
    "    \n",
    "    # Train the best model on the full training set\n",
    "    pipe = Pipeline([\n",
    "        ('scaler', StandardScaler()),\n",
    "        ('pca', PCA(n_components=pca__n_components, random_state=0)),\n",
    "        ('knn', KNeighborsClassifier(n_neighbors=knn__n_neighbors, weights=knn__weights, p=knn__p, algorithm='brute'))\n",
    "    ])\n",
    "    pipe.fit(X_train, y_train)\n",
    "\n",
    "    # Save the model in a numpy file\n",
    "    np.save(MODEL_PATH, pipe)\n",
    "else:\n",
    "    # Load the model from file\n",
    "    pipe = np.load(MODEL_PATH, allow_pickle=True).item(0)    "
   ]
  },
  {
   "cell_type": "code",
   "execution_count": 9,
   "metadata": {},
   "outputs": [
    {
     "name": "stdout",
     "output_type": "stream",
     "text": [
      "Evaluation of the best model on the test set:\n",
      "---------------------------------------------\n",
      "k-NN Precision (training set):  0.865\n",
      "k-NN Tree Precision (test set) :  0.86\n",
      "\n",
      "\n",
      "Confusion Matrix (test set):\n",
      "----------------------------\n",
      "\n",
      "                Actual N\tActual P\n",
      "Predicted N\t473 (TN)\t 38 (FN)\n",
      "Predicted P\t 54 (FP)\t333 (TP)\n",
      "\n",
      "\n",
      "Metric Summary (test set):\n",
      "-------------------------- \n",
      "Precision :  0.86\n",
      "Recall    :  0.898\n",
      "Accuracy  :  0.898\n",
      "F1 Score  :  0.879\n"
     ]
    }
   ],
   "source": [
    "# Get the predictions \n",
    "y_pred_tr = pipe.predict(X_train)\n",
    "y_pred_te = pipe.predict(X_test)\n",
    "\n",
    "# Get the contingency matrix\n",
    "tn, fp, fn, tp = confusion_matrix(y_test, y_pred_te).ravel()\n",
    "\n",
    "# Print the results\n",
    "print('Evaluation of the best model on the test set:')\n",
    "print('---------------------------------------------')\n",
    "print('k-NN Precision (training set): ', np.round(precision_score(y_train, y_pred_tr), 3))\n",
    "print('k-NN Tree Precision (test set) : ', np.round(precision_score(y_test, y_pred_te), 3))\n",
    "print('\\n')\n",
    "print('Confusion Matrix (test set):')\n",
    "print('----------------------------\\n')\n",
    "print('                Actual N\\tActual P\\nPredicted N\\t{:3d} (TN)\\t{:3d} (FN)\\nPredicted P\\t{:3d} (FP)\\t{:3d} (TP)'.format(tn, fn, fp, tp))\n",
    "print('\\n')\n",
    "print('Metric Summary (test set):')\n",
    "print('-------------------------- ')\n",
    "print('Precision : ', np.round(precision_score(y_test, y_pred_te), 3))\n",
    "print('Recall    : ', np.round(recall_score(y_test, y_pred_te), 3))\n",
    "print('Accuracy  : ', np.round(accuracy_score(y_test, y_pred_te), 3))\n",
    "print('F1 Score  : ', np.round(f1_score(y_test, y_pred_te), 3))"
   ]
  },
  {
   "cell_type": "markdown",
   "metadata": {},
   "source": [
    "The training and test precision scores are close indicating that the model generalizes well the data. The test validation score is even better than predicted by cross-validation.\n",
    "\n",
    "This model is clearly better than the baseline models and the decision tree but has lower precision than the random forest model, but higher recall. With a precision score of 86% and a recall of 90%, this knn model appears to be a well balanced, intuitive and performing model.\n",
    "\n",
    "Compared to the random forest model, it has predicted 20 True Positives and 14 False Positives more."
   ]
  }
 ],
 "metadata": {
  "kernelspec": {
   "display_name": "Python 3",
   "language": "python",
   "name": "python3"
  },
  "language_info": {
   "codemirror_mode": {
    "name": "ipython",
    "version": 3
   },
   "file_extension": ".py",
   "mimetype": "text/x-python",
   "name": "python",
   "nbconvert_exporter": "python",
   "pygments_lexer": "ipython3",
   "version": "3.6.4"
  }
 },
 "nbformat": 4,
 "nbformat_minor": 4
}
