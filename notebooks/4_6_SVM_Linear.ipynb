{
 "cells": [
  {
   "cell_type": "code",
   "execution_count": 1,
   "metadata": {},
   "outputs": [],
   "source": [
    "import numpy as np\n",
    "import pandas as pd\n",
    "from sklearn.model_selection import ParameterGrid, GridSearchCV\n",
    "from sklearn.pipeline import Pipeline\n",
    "from sklearn.preprocessing import StandardScaler\n",
    "from sklearn.decomposition import PCA\n",
    "from sklearn.svm import SVC, LinearSVC\n",
    "from sklearn.metrics import make_scorer, precision_score, recall_score, accuracy_score, f1_score, average_precision_score, roc_auc_score, confusion_matrix\n",
    "\n",
    "import matplotlib.pyplot as plt\n",
    "%matplotlib inline"
   ]
  },
  {
   "cell_type": "code",
   "execution_count": 2,
   "metadata": {},
   "outputs": [],
   "source": [
    "# CONSTANTS\n",
    "DATA_PATH   = '../resources/model_datasets.npz'\n",
    "GRID_PATH  = '../resources/model_results/svm_linear_grid.npy'\n",
    "MODEL_PATH  = '../resources/best_models/svm_linear.npy'\n",
    "TRAIN_MODEL = False"
   ]
  },
  {
   "cell_type": "markdown",
   "metadata": {},
   "source": [
    "# Linear Support Vector Machine Model"
   ]
  },
  {
   "cell_type": "markdown",
   "metadata": {},
   "source": [
    "### Load the data"
   ]
  },
  {
   "cell_type": "code",
   "execution_count": 3,
   "metadata": {},
   "outputs": [
    {
     "name": "stdout",
     "output_type": "stream",
     "text": [
      "Training set shape: (3000, 21) (3000,)\n",
      "Test set shape: (898, 21) (898,)\n"
     ]
    },
    {
     "data": {
      "text/html": [
       "<div>\n",
       "<style scoped>\n",
       "    .dataframe tbody tr th:only-of-type {\n",
       "        vertical-align: middle;\n",
       "    }\n",
       "\n",
       "    .dataframe tbody tr th {\n",
       "        vertical-align: top;\n",
       "    }\n",
       "\n",
       "    .dataframe thead th {\n",
       "        text-align: right;\n",
       "    }\n",
       "</style>\n",
       "<table border=\"1\" class=\"dataframe\">\n",
       "  <thead>\n",
       "    <tr style=\"text-align: right;\">\n",
       "      <th></th>\n",
       "      <th>count</th>\n",
       "      <th>normalized</th>\n",
       "    </tr>\n",
       "  </thead>\n",
       "  <tbody>\n",
       "    <tr>\n",
       "      <th>0</th>\n",
       "      <td>1761</td>\n",
       "      <td>0.587</td>\n",
       "    </tr>\n",
       "    <tr>\n",
       "      <th>1</th>\n",
       "      <td>1239</td>\n",
       "      <td>0.413</td>\n",
       "    </tr>\n",
       "  </tbody>\n",
       "</table>\n",
       "</div>"
      ],
      "text/plain": [
       "   count  normalized\n",
       "0   1761       0.587\n",
       "1   1239       0.413"
      ]
     },
     "execution_count": 3,
     "metadata": {},
     "output_type": "execute_result"
    }
   ],
   "source": [
    "# Extract the arrays from the NPZ file\n",
    "with np.load(DATA_PATH, allow_pickle=True) as npz: \n",
    "    X_train = npz['X_train'] \n",
    "    X_test = npz['X_test']\n",
    "    y_train = npz['y_train']\n",
    "    y_test = npz['y_test']\n",
    "    Ids_train = npz['Ids_train']\n",
    "    Ids_test = npz['Ids_test']\n",
    "    candidates = npz['candidates']\n",
    "    candidate_ids = npz['candidate_ids']\n",
    "    feature_names = npz['feature_names']\n",
    "    label_names = npz['label_names']\n",
    "    \n",
    "# Check shapes\n",
    "print('Training set shape:', X_train.shape, y_train.shape)\n",
    "print('Test set shape:', X_test.shape, y_test.shape)\n",
    "\n",
    "# Label counts\n",
    "pd.DataFrame({\n",
    "    'count': pd.value_counts(y_train), \n",
    "    'normalized': pd.value_counts(y_train, normalize=True)}\n",
    ")"
   ]
  },
  {
   "cell_type": "markdown",
   "metadata": {},
   "source": [
    "### Hyperparameters tuning"
   ]
  },
  {
   "cell_type": "markdown",
   "metadata": {},
   "source": [
    "Linear support vector machine try to find an optimal hyperplane with margins to separate two classes. In a nutshell, SVC try to find the best hyperplane that classify correctly the observations and in the same time try to maximize their distance (the margins) from this plane. Small margins allow to have models with low bias (few misclassifications) but because there are also few support vectors, with high variance. Reciproquely, bigger margins will allow more misclassifications (higher bias) but with margins defined by more support vectors, so less flexible, so a model with less variance. The C parameter in `LinearSVC` allows to tune this bias/variance trade-off: small C value lead to bigger margins (high bias/low variance, potential underfitting), high C values lead to smaller margins (low bias/high variance, potential overfitting). For our model, we will use the `LinearSVC` algorithm that is computationally more efficient than `SVC` with a linear kernel.\n",
    "\n",
    "The following hyperparameters will be tuned by grid search and 5-folds cross-validation:\n",
    "\n",
    "* PCA number of components\n",
    "* Penalty parameter C of the error term\n",
    "* Loss function\n",
    " \n",
    "Note that because the imbalance of our target variable, we apply weights inversely proportional to class frequencies: `class_weight='balanced'`."
   ]
  },
  {
   "cell_type": "code",
   "execution_count": 4,
   "metadata": {
    "scrolled": true
   },
   "outputs": [],
   "source": [
    "# Hyperparameters\n",
    "pca__n_components = [9, 12, 15, 18, None]\n",
    "svc__C = np.logspace(-4, 3, 100)\n",
    "svc__loss = ['hinge', 'squared_hinge']\n",
    "\n",
    "\n",
    "# Train the model if required\n",
    "if TRAIN_MODEL:\n",
    "    \n",
    "    # Pipeline estimator\n",
    "    pipe = Pipeline([\n",
    "        ('scaler', StandardScaler()),\n",
    "        ('pca', PCA(random_state=0)),\n",
    "        ('svc', LinearSVC(penalty='l2', class_weight='balanced', max_iter=1000, tol=1e-4, random_state=0))\n",
    "    ])\n",
    "\n",
    "    # Grid parameters\n",
    "    grid = ParameterGrid({\n",
    "        'pca__n_components': pca__n_components,\n",
    "        'svc__C': svc__C,\n",
    "        'svc__loss': svc__loss\n",
    "    })\n",
    "    \n",
    "    # Scorers\n",
    "    average_precision_scorer = make_scorer(average_precision_score, \n",
    "                                           greater_is_better=True, \n",
    "                                           needs_proba=False,\n",
    "                                           needs_threshold=True)\n",
    "    \n",
    "    roc_auc_scorer = make_scorer(roc_auc_score, \n",
    "                                 greater_is_better=True, \n",
    "                                 needs_threshold=True)\n",
    "    \n",
    "    # Grid Search with cross-validation\n",
    "    grid_cv = GridSearchCV(\n",
    "        pipe,\n",
    "        grid.param_grid,\n",
    "        cv=5,  # 5 folds => 2400 training, 600 validation\n",
    "        scoring={\n",
    "            'accuracy': 'accuracy',\n",
    "            'precision': 'precision',\n",
    "            'recall': 'recall',\n",
    "            'roc_auc': roc_auc_scorer,\n",
    "            'average_precision': average_precision_scorer\n",
    "        },\n",
    "        refit=False,\n",
    "        verbose=3\n",
    "    )\n",
    "\n",
    "    # Fit the model\n",
    "    grid_cv.fit(X_train, y_train)\n",
    "    \n",
    "    # Save results in a numpy file\n",
    "    np.save(GRID_PATH, grid_cv)\n",
    "else:\n",
    "    # Load the grid search results from file\n",
    "    grid_cv = np.load(GRID_PATH, allow_pickle=True).item(0)"
   ]
  },
  {
   "cell_type": "markdown",
   "metadata": {},
   "source": [
    "### Model selection"
   ]
  },
  {
   "cell_type": "markdown",
   "metadata": {},
   "source": [
    "We can extract the results and build a dataframe to analyze them:"
   ]
  },
  {
   "cell_type": "code",
   "execution_count": 5,
   "metadata": {
    "scrolled": true
   },
   "outputs": [
    {
     "name": "stdout",
     "output_type": "stream",
     "text": [
      "Number of models: 1000\n"
     ]
    },
    {
     "data": {
      "text/html": [
       "<div>\n",
       "<style scoped>\n",
       "    .dataframe tbody tr th:only-of-type {\n",
       "        vertical-align: middle;\n",
       "    }\n",
       "\n",
       "    .dataframe tbody tr th {\n",
       "        vertical-align: top;\n",
       "    }\n",
       "\n",
       "    .dataframe thead th {\n",
       "        text-align: right;\n",
       "    }\n",
       "</style>\n",
       "<table border=\"1\" class=\"dataframe\">\n",
       "  <thead>\n",
       "    <tr style=\"text-align: right;\">\n",
       "      <th></th>\n",
       "      <th>n_components</th>\n",
       "      <th>C</th>\n",
       "      <th>loss</th>\n",
       "      <th>mean_train_score</th>\n",
       "      <th>mean_valid_score</th>\n",
       "      <th>delta_score</th>\n",
       "      <th>std_train_score</th>\n",
       "      <th>std_valid_score</th>\n",
       "    </tr>\n",
       "  </thead>\n",
       "  <tbody>\n",
       "    <tr>\n",
       "      <th>0</th>\n",
       "      <td>9</td>\n",
       "      <td>0.0001</td>\n",
       "      <td>hinge</td>\n",
       "      <td>0.652388</td>\n",
       "      <td>0.650487</td>\n",
       "      <td>0.001901</td>\n",
       "      <td>0.003040</td>\n",
       "      <td>0.013400</td>\n",
       "    </tr>\n",
       "    <tr>\n",
       "      <th>1</th>\n",
       "      <td>9</td>\n",
       "      <td>0.0001</td>\n",
       "      <td>squared_hinge</td>\n",
       "      <td>0.671861</td>\n",
       "      <td>0.669212</td>\n",
       "      <td>0.002648</td>\n",
       "      <td>0.003269</td>\n",
       "      <td>0.013503</td>\n",
       "    </tr>\n",
       "    <tr>\n",
       "      <th>2</th>\n",
       "      <td>9</td>\n",
       "      <td>0.000117681</td>\n",
       "      <td>hinge</td>\n",
       "      <td>0.651681</td>\n",
       "      <td>0.650278</td>\n",
       "      <td>0.001402</td>\n",
       "      <td>0.003561</td>\n",
       "      <td>0.012405</td>\n",
       "    </tr>\n",
       "    <tr>\n",
       "      <th>3</th>\n",
       "      <td>9</td>\n",
       "      <td>0.000117681</td>\n",
       "      <td>squared_hinge</td>\n",
       "      <td>0.672151</td>\n",
       "      <td>0.670948</td>\n",
       "      <td>0.001204</td>\n",
       "      <td>0.003169</td>\n",
       "      <td>0.014547</td>\n",
       "    </tr>\n",
       "    <tr>\n",
       "      <th>4</th>\n",
       "      <td>9</td>\n",
       "      <td>0.000138489</td>\n",
       "      <td>hinge</td>\n",
       "      <td>0.650288</td>\n",
       "      <td>0.650700</td>\n",
       "      <td>0.000412</td>\n",
       "      <td>0.004300</td>\n",
       "      <td>0.013258</td>\n",
       "    </tr>\n",
       "  </tbody>\n",
       "</table>\n",
       "</div>"
      ],
      "text/plain": [
       "   n_components            C           loss  mean_train_score  \\\n",
       "0             9       0.0001          hinge          0.652388   \n",
       "1             9       0.0001  squared_hinge          0.671861   \n",
       "2             9  0.000117681          hinge          0.651681   \n",
       "3             9  0.000117681  squared_hinge          0.672151   \n",
       "4             9  0.000138489          hinge          0.650288   \n",
       "\n",
       "   mean_valid_score  delta_score  std_train_score  std_valid_score  \n",
       "0          0.650487     0.001901         0.003040         0.013400  \n",
       "1          0.669212     0.002648         0.003269         0.013503  \n",
       "2          0.650278     0.001402         0.003561         0.012405  \n",
       "3          0.670948     0.001204         0.003169         0.014547  \n",
       "4          0.650700     0.000412         0.004300         0.013258  "
      ]
     },
     "execution_count": 5,
     "metadata": {},
     "output_type": "execute_result"
    }
   ],
   "source": [
    "# We want to tune our models according to the precision metric\n",
    "score = 'precision'\n",
    "\n",
    "# Generic variable names to easely change the metric\n",
    "r = grid_cv.cv_results_\n",
    "mean_train_score = 'mean_train_' + score\n",
    "mean_valid_score = 'mean_test_' + score\n",
    "std_train_score  = 'std_train_' + score\n",
    "std_valid_score  = 'std_test_' + score\n",
    "\n",
    "# Create a DataFrame to analyze the grid search results\n",
    "df = pd.DataFrame.from_items([\n",
    "    ('n_components', r['param_pca__n_components']),\n",
    "    ('C', r['param_svc__C']),\n",
    "    ('loss', r['param_svc__loss']),\n",
    "    ('mean_train_score', r[mean_train_score]),\n",
    "    ('mean_valid_score', r[mean_valid_score]),\n",
    "    ('delta_score', np.abs(r[mean_train_score] - r[mean_valid_score])),\n",
    "    ('std_train_score', r[std_train_score]),\n",
    "    ('std_valid_score', r[std_valid_score])\n",
    "])\n",
    "\n",
    "# Replace the PCA None value by the number of features\n",
    "df.n_components.fillna(X_train.shape[1], inplace=True)\n",
    "\n",
    "print('Number of models:', df.shape[0])\n",
    "df.head(5)"
   ]
  },
  {
   "cell_type": "markdown",
   "metadata": {},
   "source": [
    "The following scatter plots will give us better insight about the results :\n",
    "\n",
    "* mean training score VS validation standard deviation\n",
    "* mean validation score VS validation standard deviation\n",
    "* delta mean scores VS validation standard deviation"
   ]
  },
  {
   "cell_type": "code",
   "execution_count": 6,
   "metadata": {},
   "outputs": [
    {
     "data": {
      "image/png": "[encoded data removed]",
      "text/plain": [
       "<matplotlib.figure.Figure at 0x11e469b70>"
      ]
     },
     "metadata": {
      "needs_background": "light"
     },
     "output_type": "display_data"
    }
   ],
   "source": [
    "# Selection filters\n",
    "filter_loss = (df.loss == 'hinge')\n",
    "filter_C = (df.C > 0.1)\n",
    "filter_C2 = (df.C > 0.005)\n",
    "\n",
    "\n",
    "# Plot vars\n",
    "legend_loc = ['upper right', 'upper right', 'upper right']\n",
    "ylabel = ['mean training score', 'mean validation score', 'delta score']\n",
    "ylims = [(0.45, 1), (0.45, 1), (0, 0.22)]\n",
    "\n",
    "i = 0\n",
    "fig, ax = plt.subplots(nrows=1, ncols=3, figsize=(20, 10))\n",
    "for var in ['mean_train_score', 'mean_valid_score', 'delta_score']:\n",
    "    ax[i].scatter(df.std_valid_score[filter_loss & filter_C], df.loc[filter_loss & filter_C, var], color='C1', label='hinge loss, C > 0.1', s=2)\n",
    "    ax[i].scatter(df.std_valid_score[filter_loss & ~filter_C], df.loc[filter_loss & ~filter_C, var], color='C3', label='hinge loss, C <= 0.1', s=2)\n",
    "    ax[i].scatter(df.std_valid_score[~filter_loss & filter_C2], df.loc[~filter_loss & filter_C2, var], color='#55EE55', label='squared hinge loss, C > 0.005', s=2)\n",
    "    ax[i].scatter(df.std_valid_score[~filter_loss & ~filter_C2], df.loc[~filter_loss & ~filter_C2, var], color='C2', label='squared hinge loss, C <= 0.005', s=2)\n",
    " \n",
    "    ax[i].grid(axis='both')\n",
    "    ax[i].set(xlabel='validation standard deviation', ylabel=ylabel[i], xlim=(0, 0.05), ylim=ylims[i])\n",
    "    ax[i].legend(loc=legend_loc[i])\n",
    "    i += 1\n",
    "\n",
    "plt.show()"
   ]
  },
  {
   "cell_type": "markdown",
   "metadata": {},
   "source": [
    "As expected, when C is too low, the bias increase and the precision score drop. It appears that models with C > 0.1 and hinge loss function are better.\n",
    "\n",
    "Given the results, our wish would be to find a model satisfying the following conditions:\n",
    "\n",
    "* validation standard deviation <= 1%\n",
    "* mean validation precision >= 75%"
   ]
  },
  {
   "cell_type": "code",
   "execution_count": 7,
   "metadata": {
    "scrolled": false
   },
   "outputs": [
    {
     "data": {
      "text/html": [
       "<div>\n",
       "<style scoped>\n",
       "    .dataframe tbody tr th:only-of-type {\n",
       "        vertical-align: middle;\n",
       "    }\n",
       "\n",
       "    .dataframe tbody tr th {\n",
       "        vertical-align: top;\n",
       "    }\n",
       "\n",
       "    .dataframe thead th {\n",
       "        text-align: right;\n",
       "    }\n",
       "</style>\n",
       "<table border=\"1\" class=\"dataframe\">\n",
       "  <thead>\n",
       "    <tr style=\"text-align: right;\">\n",
       "      <th></th>\n",
       "      <th>n_components</th>\n",
       "      <th>C</th>\n",
       "      <th>loss</th>\n",
       "      <th>mean_train_score</th>\n",
       "      <th>mean_valid_score</th>\n",
       "      <th>delta_score</th>\n",
       "      <th>std_train_score</th>\n",
       "      <th>std_valid_score</th>\n",
       "    </tr>\n",
       "  </thead>\n",
       "  <tbody>\n",
       "    <tr>\n",
       "      <th>936</th>\n",
       "      <td>21</td>\n",
       "      <td>6.42807</td>\n",
       "      <td>hinge</td>\n",
       "      <td>0.764038</td>\n",
       "      <td>0.760226</td>\n",
       "      <td>0.003812</td>\n",
       "      <td>0.004607</td>\n",
       "      <td>0.009107</td>\n",
       "    </tr>\n",
       "    <tr>\n",
       "      <th>950</th>\n",
       "      <td>21</td>\n",
       "      <td>20.0923</td>\n",
       "      <td>hinge</td>\n",
       "      <td>0.759632</td>\n",
       "      <td>0.754919</td>\n",
       "      <td>0.004713</td>\n",
       "      <td>0.004900</td>\n",
       "      <td>0.009423</td>\n",
       "    </tr>\n",
       "    <tr>\n",
       "      <th>938</th>\n",
       "      <td>21</td>\n",
       "      <td>7.56463</td>\n",
       "      <td>hinge</td>\n",
       "      <td>0.759991</td>\n",
       "      <td>0.754823</td>\n",
       "      <td>0.005168</td>\n",
       "      <td>0.004283</td>\n",
       "      <td>0.009426</td>\n",
       "    </tr>\n",
       "    <tr>\n",
       "      <th>940</th>\n",
       "      <td>21</td>\n",
       "      <td>8.90215</td>\n",
       "      <td>hinge</td>\n",
       "      <td>0.762894</td>\n",
       "      <td>0.756530</td>\n",
       "      <td>0.006364</td>\n",
       "      <td>0.004594</td>\n",
       "      <td>0.009709</td>\n",
       "    </tr>\n",
       "    <tr>\n",
       "      <th>914</th>\n",
       "      <td>21</td>\n",
       "      <td>1.07227</td>\n",
       "      <td>hinge</td>\n",
       "      <td>0.762509</td>\n",
       "      <td>0.756192</td>\n",
       "      <td>0.006318</td>\n",
       "      <td>0.004905</td>\n",
       "      <td>0.009710</td>\n",
       "    </tr>\n",
       "  </tbody>\n",
       "</table>\n",
       "</div>"
      ],
      "text/plain": [
       "     n_components        C   loss  mean_train_score  mean_valid_score  \\\n",
       "936            21  6.42807  hinge          0.764038          0.760226   \n",
       "950            21  20.0923  hinge          0.759632          0.754919   \n",
       "938            21  7.56463  hinge          0.759991          0.754823   \n",
       "940            21  8.90215  hinge          0.762894          0.756530   \n",
       "914            21  1.07227  hinge          0.762509          0.756192   \n",
       "\n",
       "     delta_score  std_train_score  std_valid_score  \n",
       "936     0.003812         0.004607         0.009107  \n",
       "950     0.004713         0.004900         0.009423  \n",
       "938     0.005168         0.004283         0.009426  \n",
       "940     0.006364         0.004594         0.009709  \n",
       "914     0.006318         0.004905         0.009710  "
      ]
     },
     "execution_count": 7,
     "metadata": {},
     "output_type": "execute_result"
    }
   ],
   "source": [
    "# Model selection according to some wished criteria\n",
    "f_std_valid = (df.std_valid_score <= 0.01)\n",
    "f_valid_score = (df.mean_valid_score >= 0.75)\n",
    "\n",
    "filter =  f_std_valid & f_valid_score\n",
    "best_models = df[filter].sort_values(by='std_valid_score', ascending=True)\n",
    "best_models"
   ]
  },
  {
   "cell_type": "markdown",
   "metadata": {},
   "source": [
    "The models with the best validation standard deviation has also the best mean validation precision score. So, we will select this first model as our best linear SVM model. Note that all the models are models for which the PCA number of components is set to None (=21). It can be probably explained by the fact that more dimensions give more flexibility to find an optimal hyperplane in the N dimensional feature space."
   ]
  },
  {
   "cell_type": "markdown",
   "metadata": {},
   "source": [
    "### Best model evaluation on the test set"
   ]
  },
  {
   "cell_type": "markdown",
   "metadata": {},
   "source": [
    "We must now to train these model on the full training set and evaluate it on the test set :"
   ]
  },
  {
   "cell_type": "code",
   "execution_count": 8,
   "metadata": {},
   "outputs": [],
   "source": [
    "# Best model hyperparameters\n",
    "pca__n_components = best_models.n_components.values[0]\n",
    "svc__C =  best_models.C.values[0]\n",
    "svc__loss = best_models.loss.values[0]\n",
    "\n",
    "if TRAIN_MODEL:\n",
    "    # Train the best model on the full training set\n",
    "    pipe = Pipeline([\n",
    "        ('scaler', StandardScaler()),\n",
    "        ('pca', PCA(n_components=pca__n_components, random_state=0)),\n",
    "        ('svc', LinearSVC(C=svc__C,\n",
    "                          loss=svc__loss,\n",
    "                          class_weight='balanced', \n",
    "                          penalty='l2', \n",
    "                          max_iter=1000, \n",
    "                          tol=1e-4, \n",
    "                          random_state=0))\n",
    "    ])\n",
    "    pipe.fit(X_train, y_train)\n",
    "    \n",
    "    # Save the model in a numpy file\n",
    "    np.save(MODEL_PATH, pipe)\n",
    "else:\n",
    "    # Load the model from file\n",
    "    pipe = np.load(MODEL_PATH, allow_pickle=True).item(0)"
   ]
  },
  {
   "cell_type": "code",
   "execution_count": 9,
   "metadata": {},
   "outputs": [
    {
     "name": "stdout",
     "output_type": "stream",
     "text": [
      "Evaluation of the best model on the test set:\n",
      "---------------------------------------------\n",
      "Linear SVM Precision (training set):  0.76\n",
      "Linear SVM Precision (test set) :  0.796\n",
      "\n",
      "\n",
      "Confusion Matrix (test set):\n",
      "----------------------------\n",
      "\n",
      "                Actual N\tActual P\n",
      "Predicted N\t439 (TN)\t 27 (FN)\n",
      "Predicted P\t 88 (FP)\t344 (TP)\n",
      "\n",
      "\n",
      "Metric Summary (test set):\n",
      "-------------------------- \n",
      "Precision :  0.796\n",
      "Recall    :  0.927\n",
      "Accuracy  :  0.872\n",
      "F1 Score  :  0.857\n"
     ]
    }
   ],
   "source": [
    "# Get the predictions \n",
    "y_pred_tr = pipe.predict(X_train)\n",
    "y_pred_te = pipe.predict(X_test)\n",
    "\n",
    "# Get the contingency matrix\n",
    "tn, fp, fn, tp = confusion_matrix(y_test, y_pred_te).ravel()\n",
    "\n",
    "# Print the results\n",
    "print('Evaluation of the best model on the test set:')\n",
    "print('---------------------------------------------')\n",
    "print('Linear SVM Precision (training set): ', np.round(precision_score(y_train, y_pred_tr), 3))\n",
    "print('Linear SVM Precision (test set) : ', np.round(precision_score(y_test, y_pred_te), 3))\n",
    "print('\\n')\n",
    "print('Confusion Matrix (test set):')\n",
    "print('----------------------------\\n')\n",
    "print('                Actual N\\tActual P\\nPredicted N\\t{:3d} (TN)\\t{:3d} (FN)\\nPredicted P\\t{:3d} (FP)\\t{:3d} (TP)'.format(tn, fn, fp, tp))\n",
    "print('\\n')\n",
    "print('Metric Summary (test set):')\n",
    "print('-------------------------- ')\n",
    "print('Precision : ', np.round(precision_score(y_test, y_pred_te), 3))\n",
    "print('Recall    : ', np.round(recall_score(y_test, y_pred_te), 3))\n",
    "print('Accuracy  : ', np.round(accuracy_score(y_test, y_pred_te), 3))\n",
    "print('F1 Score  : ', np.round(f1_score(y_test, y_pred_te), 3))"
   ]
  },
  {
   "cell_type": "markdown",
   "metadata": {},
   "source": [
    "Given the non linear nature of our problem, it's not surprising that this model performs less well than the others models regarding the precision metric. It appears that linear models are good to identify most of the exoplanets, represented here by a recall of 93%. The test precision score of 80% is better than predicted by cross-validation but probably by chance.\n",
    "\n",
    "We expect the SVM model with an RBF kernel to be much better than this model and probably better also than the random forest and knn models..."
   ]
  }
 ],
 "metadata": {
  "kernelspec": {
   "display_name": "Python 3",
   "language": "python",
   "name": "python3"
  },
  "language_info": {
   "codemirror_mode": {
    "name": "ipython",
    "version": 3
   },
   "file_extension": ".py",
   "mimetype": "text/x-python",
   "name": "python",
   "nbconvert_exporter": "python",
   "pygments_lexer": "ipython3",
   "version": "3.6.4"
  }
 },
 "nbformat": 4,
 "nbformat_minor": 4
}
